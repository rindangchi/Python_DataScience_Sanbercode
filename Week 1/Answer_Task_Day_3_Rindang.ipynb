{
  "nbformat": 4,
  "nbformat_minor": 0,
  "metadata": {
    "kernelspec": {
      "display_name": "Python 3",
      "language": "python",
      "name": "python3"
    },
    "language_info": {
      "codemirror_mode": {
        "name": "ipython",
        "version": 3
      },
      "file_extension": ".py",
      "mimetype": "text/x-python",
      "name": "python",
      "nbconvert_exporter": "python",
      "pygments_lexer": "ipython3",
      "version": "3.7.7"
    },
    "colab": {
      "name": "Jawaban Tugas Hari 3_Rindang.ipynb",
      "provenance": [],
      "collapsed_sections": []
    }
  },
  "cells": [
    {
      "cell_type": "markdown",
      "metadata": {
        "id": "a9HYUdCUsrKl"
      },
      "source": [
        "<h2>Soal 1: Comparison Operator</h2>\n",
        "\n",
        "- Berikan contoh comparison dari tipe data string\n",
        "- Berikan contoh comparison dari tipe data boolean\n",
        "- Berikan contoh comparison dari tipe data integer"
      ]
    },
    {
      "cell_type": "code",
      "metadata": {
        "id": "lXMCHZ71srKp",
        "colab": {
          "base_uri": "https://localhost:8080/"
        },
        "outputId": "72134231-6ffe-40f5-db34-74f9b6649e59"
      },
      "source": [
        "#contoh comparison dari tipe data string\n",
        "print(\"contoh comparison dari tipe data string:\")\n",
        "drama1 = 'how i met your mother'\n",
        "drama2 = 'How i met your mother'\n",
        "print(drama1 == drama2)\n",
        "print(drama1 != drama2)\n",
        "\n",
        "#contoh comparison dari tipe data integer\n",
        "print(\"contoh comparison dari tipe data integer:\")\n",
        "saldo1 = 10000000000000000000000000\n",
        "saldo2 = 100000000000000000000000000\n",
        "print(saldo1 < saldo2)\n",
        "print(saldo1 > saldo2)\n",
        "print(saldo1 == saldo2)\n",
        "print(saldo1 >= saldo2)\n",
        "print(saldo1 != saldo2)\n",
        "\n",
        "#contoh comparison dari tipe data boolean\n",
        "print(\"contoh comparison dari tipe data boolean:\")\n",
        "print(True == False)\n",
        "print(True != True)\n"
      ],
      "execution_count": null,
      "outputs": [
        {
          "output_type": "stream",
          "text": [
            "contoh comparison dari tipe data string:\n",
            "False\n",
            "True\n",
            "contoh comparison dari tipe data integer:\n",
            "True\n",
            "False\n",
            "False\n",
            "False\n",
            "True\n",
            "contoh comparison dari tipe data boolean:\n",
            "False\n",
            "False\n"
          ],
          "name": "stdout"
        }
      ]
    },
    {
      "cell_type": "markdown",
      "metadata": {
        "id": "IbNoZvVssrK5"
      },
      "source": [
        "<h2>Soal 2: Boolean Comparison</h2>\n",
        "\n",
        "- Berikan contoh gabungan multiple comparison menggunkan Boolean Comparisin 'and'\n",
        "- Berikan contoh gabungan multiple comparison menggunkan Boolean Comparisin 'or'\n",
        "- Berikan contoh gabungan multiple comparison menggunkan Boolean Comparisin 'not'"
      ]
    },
    {
      "cell_type": "code",
      "metadata": {
        "id": "7eU1vPLCsrK7",
        "colab": {
          "base_uri": "https://localhost:8080/"
        },
        "outputId": "72850ca4-e133-4006-f9db-d7eb19919694"
      },
      "source": [
        "#Berikan contoh gabungan multiple comparison menggunkan Boolean Comparisin 'and'\n",
        "print('contoh gabungan multiple comparison menggunkan Boolean Comparisin and')\n",
        "print((3 > 5) and (8 == 0))\n",
        "print((3 < 5) and (8 == 0))\n",
        "\n",
        "\n",
        "#Berikan contoh gabungan multiple comparison menggunkan Boolean Comparisin 'or'\n",
        "print('contoh gabungan multiple comparison menggunkan Boolean Comparisin or')\n",
        "print((3 < 5) or (8 == 0))\n",
        "print((3 > 5) or (8 == 0))\n",
        "\n",
        "#Berikan contoh gabungan multiple comparison menggunkan Boolean Comparisin 'not'\n",
        "print('contoh gabungan multiple comparison menggunkan Boolean Comparisin not')\n",
        "print(not((3 < 5) or (8 == 0)))\n",
        "print(not((3 > 5) or (8 == 0)))"
      ],
      "execution_count": null,
      "outputs": [
        {
          "output_type": "stream",
          "text": [
            "contoh gabungan multiple comparison menggunkan Boolean Comparisin and\n",
            "False\n",
            "False\n",
            "contoh gabungan multiple comparison menggunkan Boolean Comparisin or\n",
            "True\n",
            "False\n",
            "contoh gabungan multiple comparison menggunkan Boolean Comparisin not\n",
            "False\n",
            "True\n"
          ],
          "name": "stdout"
        }
      ]
    },
    {
      "cell_type": "markdown",
      "metadata": {
        "id": "Yp_g_sPMsrLH"
      },
      "source": [
        "<h2>Soal 3: If-Else Statement</h2>\n",
        "\n",
        "Lengkapi kode untuk menghasilkan suatu output yang di harapkan\n",
        "\n",
        "- Bualah sebuah if-else statement yang dimana akan mem-print 'Besar' jika ruangan adalah 'Kamar' dan ukuran lebih dari 12, kemudian mem-print 'Sedang' jika ruangan adalah 'Kamar' dan ukuran lebih dari 6 dan memprint 'Kecil' jika ruangan adalah 'Kamar' dan ukuran ruangan lebih kecil dan sama dengan 6."
      ]
    },
    {
      "cell_type": "code",
      "metadata": {
        "id": "euRiRNupsrLK",
        "colab": {
          "base_uri": "https://localhost:8080/"
        },
        "outputId": "8d4042b5-b984-4bf5-a970-8e18787fd397"
      },
      "source": [
        "ruangan = 'Kamar'\n",
        "size = 20\n",
        "\n",
        "if  size > 12:\n",
        "    print('Besar')\n",
        "elif size > 6 and size <= 12:\n",
        "    print('Sedang')\n",
        "else:\n",
        "    print('Kecil')"
      ],
      "execution_count": null,
      "outputs": [
        {
          "output_type": "stream",
          "text": [
            "Besar\n"
          ],
          "name": "stdout"
        }
      ]
    },
    {
      "cell_type": "markdown",
      "metadata": {
        "id": "IcoJXJT1srLW"
      },
      "source": [
        "<h2>Soal 4: Comparison Operator dengan fungsi</h2>\n",
        "\n",
        "Buatlah sebuah fungsi yang menerima satu argument bertipe data numeric dan menghasilkan sebuah return sebagai berikut :\n",
        "- menghasilkan return 'Aneh' jika nilai dari argument tersebut adalah bilangan ganjil\n",
        "- menghasilkan return 'Tidak Aneh' jika nilai dari argument tersebut adalah bilangan genap dan diantara nilai 2 sampai 5 (2 dan 5 termasuk)\n",
        "- menghasilkan return 'Aneh' jika nilai dari argument tersebut adalah bilangan genap dan diantara nilai 6 sampai 20 (6 dan 20 termasuk)\n",
        "- menghasilkan return 'Tidak Aneh' jika nilai dari argument tersebut adalah bilangan genap dan lebih besari dari 20"
      ]
    },
    {
      "cell_type": "code",
      "metadata": {
        "id": "g8F_qfEKsrLZ",
        "colab": {
          "base_uri": "https://localhost:8080/"
        },
        "outputId": "13fa20a0-63a2-4cac-9fc0-72c5cd3ad53e"
      },
      "source": [
        "# Buat fungsi\n",
        "def fungsi(x):\n",
        "  if x < 0 :\n",
        "    print(x,\"Aneh\")\n",
        "  elif (x%2 == 0 and (x >= 6 and x <= 20)) :\n",
        "    print(x,\"Aneh\")\n",
        "  elif (x%2 == 0 and (x >= 2 and x <= 5)):\n",
        "    print(x,\"Tidak Aneh\")\n",
        "  elif (x%2 == 0 and (x > 20)):\n",
        "    print(x,\"Tidak Aneh\")\n",
        " \n",
        "#input angka \n",
        "\n",
        "fungsi(-1)\n",
        "fungsi(6)\n",
        "fungsi(4)\n",
        "fungsi(24)    \n",
        "\n"
      ],
      "execution_count": null,
      "outputs": [
        {
          "output_type": "stream",
          "text": [
            "-1 Aneh\n",
            "6 Aneh\n",
            "4 Tidak Aneh\n",
            "24 Tidak Aneh\n"
          ],
          "name": "stdout"
        }
      ]
    },
    {
      "cell_type": "markdown",
      "metadata": {
        "id": "gf0D64xOsrLl"
      },
      "source": [
        "<h2>Soal 5: While Loop dan For Loop</h2>\n",
        "\n",
        "- Apa perbedaan while loop dan for loop?\n",
        "- Berikan contoh sederhana cara menggunakan while loop dan for loop"
      ]
    },
    {
      "cell_type": "code",
      "metadata": {
        "id": "l7KIgpjHsrLo",
        "colab": {
          "base_uri": "https://localhost:8080/"
        },
        "outputId": "5d219297-3246-4423-ab92-9bfb58be9e0b"
      },
      "source": [
        "# Tulis Kode\n",
        "#Apa perbedaan while loop dan for loop?\n",
        "print('Apa perbedaan while loop dan for loop?')\n",
        "print('for digunakan jika sudah diketahui banyak perulangannya, while akan melakukan looping terus terus menerus sampai memenuhi kondisi tertentu')\n",
        "\n",
        "#contoh for loop\n",
        "print('contoh for loop')\n",
        "a = 5\n",
        "for i in range(a):\n",
        "    print(\"perulangan for\", i)\n",
        "\n",
        "siswa = ['tuty', 'andi', 'ayu']\n",
        "for daftar in siswa :\n",
        "    print(daftar)     \n",
        "\n",
        "#contoh while loop\n",
        "print('contoh perulangan while')\n",
        "i = 0\n",
        "while i < 100:\n",
        "    print(i, end = ' ')\n",
        "    i += 5\n",
        "\n"
      ],
      "execution_count": null,
      "outputs": [
        {
          "output_type": "stream",
          "text": [
            "Apa perbedaan while loop dan for loop?\n",
            "for digunakan jika sudah diketahui banyak perulangannya, while akan melakukan looping terus terus menerus sampai memenuhi kondisi tertentu\n",
            "contoh for loop\n",
            "perulangan for 0\n",
            "perulangan for 1\n",
            "perulangan for 2\n",
            "perulangan for 3\n",
            "perulangan for 4\n",
            "tuty\n",
            "andi\n",
            "ayu\n",
            "contoh perulangan while\n",
            "0 5 10 15 20 25 30 35 40 45 50 55 60 65 70 75 80 85 90 95 "
          ],
          "name": "stdout"
        }
      ]
    },
    {
      "cell_type": "markdown",
      "metadata": {
        "id": "fZQpBGCgsrLz"
      },
      "source": [
        "<h2>Soal 6: While Loop</h2>\n",
        "    \n",
        "Buatlah sebuah code while loop sebagai berikut :\n",
        "- Buatlah suatu fungsi yang merima satu input nilai numeric\n",
        "- Dalam fungsi, Buat sebuah while-loop dengan melakukan comparasi terhadap inputan tersebut, dimana looping/iterasi terus berjalan apabila nilai inputan tidak sama dengan 0\n",
        "- Dalam setiap iterasi update nilai variable inputan itu, jika input lebih dari 0, maka kurangi variabel tersebut sebesar 1, selain itu tambahkan 1\n",
        "- print nilai variable input dalam setiap awal iterasi"
      ]
    },
    {
      "cell_type": "code",
      "metadata": {
        "id": "yOiqjrU2srL1",
        "colab": {
          "base_uri": "https://localhost:8080/"
        },
        "outputId": "a18ddb97-2114-462a-90ad-77354348e383"
      },
      "source": [
        "a = 10\n",
        "\n",
        "def fungsi_while(a):\n",
        "  while a != 0:\n",
        "      print(a, end = ' ')\n",
        "      a -= 1\n",
        "\n",
        "fungsi_while(a)"
      ],
      "execution_count": null,
      "outputs": [
        {
          "output_type": "stream",
          "text": [
            "10 9 8 7 6 5 4 3 2 1 "
          ],
          "name": "stdout"
        }
      ]
    },
    {
      "cell_type": "markdown",
      "metadata": {
        "id": "lKzngRrlsrMD"
      },
      "source": [
        "Expected Output:\n",
        "\n",
        "10\n",
        "\n",
        "9\n",
        "\n",
        "8\n",
        "\n",
        "7\n",
        "\n",
        "6\n",
        "\n",
        "5\n",
        "\n",
        "4\n",
        "\n",
        "3\n",
        "\n",
        "2\n",
        "\n",
        "1"
      ]
    },
    {
      "cell_type": "markdown",
      "metadata": {
        "id": "IWg3Z_zZsrMG"
      },
      "source": [
        "<h2>Soal 7: For Loop</h2>\n",
        "    \n",
        "Lengkapi kode untuk menghasilkan suatu output yang di harapkan:\n",
        "\n",
        "- Buatlah sebuah loop dengan mengiterasi sebuah objek list kemudian di kalikan dengan index dari list tersebut dan print hasilnya"
      ]
    },
    {
      "cell_type": "code",
      "metadata": {
        "id": "_Jl5i7WKsrMI",
        "colab": {
          "base_uri": "https://localhost:8080/"
        },
        "outputId": "eeec5ed3-0a8e-4640-f4fe-8d9fc1e5c8ee"
      },
      "source": [
        "obj_list= [1, 16, 11, 10, 5]\n",
        "\n",
        "# lengkapi code di bawah\n",
        "for index, obj_list in enumerate(obj_list):\n",
        "    print(obj_list * int(index))\n",
        "\n"
      ],
      "execution_count": null,
      "outputs": [
        {
          "output_type": "stream",
          "text": [
            "0\n",
            "16\n",
            "22\n",
            "30\n",
            "20\n"
          ],
          "name": "stdout"
        }
      ]
    },
    {
      "cell_type": "markdown",
      "metadata": {
        "id": "OGawROjnsrMU"
      },
      "source": [
        "Expected Output:\n",
        "\n",
        "0\n",
        "\n",
        "16\n",
        "\n",
        "22\n",
        "\n",
        "30\n",
        "\n",
        "20\n"
      ]
    }
  ]
}
