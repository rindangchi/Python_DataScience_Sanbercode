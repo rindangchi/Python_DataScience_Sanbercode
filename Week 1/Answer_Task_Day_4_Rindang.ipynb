{
  "nbformat": 4,
  "nbformat_minor": 0,
  "metadata": {
    "kernelspec": {
      "display_name": "Python 3",
      "language": "python",
      "name": "python3"
    },
    "language_info": {
      "codemirror_mode": {
        "name": "ipython",
        "version": 3
      },
      "file_extension": ".py",
      "mimetype": "text/x-python",
      "name": "python",
      "nbconvert_exporter": "python",
      "pygments_lexer": "ipython3",
      "version": "3.7.7"
    },
    "colab": {
      "name": "Jawaban Tugas Hari 4_Rindang.ipynb",
      "provenance": [],
      "collapsed_sections": []
    }
  },
  "cells": [
    {
      "cell_type": "markdown",
      "metadata": {
        "id": "1O3NGQSKzf_A"
      },
      "source": [
        "# List"
      ]
    },
    {
      "cell_type": "markdown",
      "metadata": {
        "id": "m2VWq6g9szIv"
      },
      "source": [
        "<h2>Soal 1: Sifat List</h2>\n",
        "\n",
        "Jawab Pertanyaan di bawah ini:\n",
        "\n",
        "Jenis data apa saja yang bisa ada di dalam List?"
      ]
    },
    {
      "cell_type": "markdown",
      "metadata": {
        "id": "-AoTZqFqR53r"
      },
      "source": [
        "List dapat berisi tipe data apapun, seperti boolean, numeric, string dan sebagainya"
      ]
    },
    {
      "cell_type": "markdown",
      "metadata": {
        "id": "oUTuv3Me3izt"
      },
      "source": [
        ""
      ]
    },
    {
      "cell_type": "markdown",
      "metadata": {
        "id": "XD1fT351szI2"
      },
      "source": [
        "<h2>Soal 2: Akses List</h2>\n",
        "\n",
        "Lengkapi kode untuk menghasilkan suatu output yang di harapkan"
      ]
    },
    {
      "cell_type": "code",
      "metadata": {
        "id": "qXKteY88szI5",
        "colab": {
          "base_uri": "https://localhost:8080/"
        },
        "outputId": "81f67c47-3218-4854-b56d-a4c634ff2d03"
      },
      "source": [
        "a = ['1', '13b', 'aa1', 1.32, 22.1, 2.34]\n",
        "# slicing list\n",
        "print(a[1:5])"
      ],
      "execution_count": null,
      "outputs": [
        {
          "output_type": "stream",
          "text": [
            "['13b', 'aa1', 1.32, 22.1]\n"
          ],
          "name": "stdout"
        }
      ]
    },
    {
      "cell_type": "markdown",
      "metadata": {
        "id": "4Qp2wjmOszJJ"
      },
      "source": [
        "Expected Output :\n",
        "\n",
        "[ '13b', 'aa1', 1.32, 22.1 ]"
      ]
    },
    {
      "cell_type": "markdown",
      "metadata": {
        "id": "qf7YmOZzszJL"
      },
      "source": [
        "<h2>Soal 3: Nested List</h2>\n",
        "\n",
        "Lengkapi kode untuk menghasilkan suatu output yang di harapkan"
      ]
    },
    {
      "cell_type": "code",
      "metadata": {
        "id": "JCac4gPfszJO",
        "colab": {
          "base_uri": "https://localhost:8080/"
        },
        "outputId": "c61d6f77-ee32-4406-cdf6-f6699dadf380"
      },
      "source": [
        "a = [1.32, 22.1, 2.34]\n",
        "b = ['1', '13b', 'aa1']\n",
        "c = [3, 40, 100]\n",
        "# combine list\n",
        "combine = [a, b, c]\n",
        "print(combine)"
      ],
      "execution_count": null,
      "outputs": [
        {
          "output_type": "stream",
          "text": [
            "[[1.32, 22.1, 2.34], ['1', '13b', 'aa1'], [3, 40, 100]]\n"
          ],
          "name": "stdout"
        }
      ]
    },
    {
      "cell_type": "markdown",
      "metadata": {
        "id": "mNzKeR8hszJk"
      },
      "source": [
        "Expected Output :\n",
        "\n",
        "[ [1.32, 22.1, 2.34], [3, 40, 100], ['1', '13b', 'aa1'] ]"
      ]
    },
    {
      "cell_type": "markdown",
      "metadata": {
        "id": "zKS3e_kTszJm"
      },
      "source": [
        "<h2>Soal 4: Akses Nested List</h2>\n",
        "\n",
        "Lengkapi kode untuk menghasilkan suatu output yang di harapkan"
      ]
    },
    {
      "cell_type": "code",
      "metadata": {
        "id": "IhFh_WCzszJo",
        "colab": {
          "base_uri": "https://localhost:8080/"
        },
        "outputId": "7c871152-93cc-429e-cf54-9f31cb536921"
      },
      "source": [
        "a = [\n",
        "    [5, 9, 8],\n",
        "    [0, 0, 6]\n",
        "    ]\n",
        "# subsetting list\n",
        "print(a[1][1:])"
      ],
      "execution_count": null,
      "outputs": [
        {
          "output_type": "stream",
          "text": [
            "[0, 6]\n"
          ],
          "name": "stdout"
        }
      ]
    },
    {
      "cell_type": "markdown",
      "metadata": {
        "id": "mk5EMa6pszJ2"
      },
      "source": [
        "Expected Output :\n",
        "\n",
        "\n",
        "[0, 6]"
      ]
    },
    {
      "cell_type": "markdown",
      "metadata": {
        "id": "sTVLtrqCszJ4"
      },
      "source": [
        "<h2>Soal 5: Built in Function List</h2>\n",
        "\n",
        "Lengkapi kode untuk menghasilkan suatu output yang di harapkan"
      ]
    },
    {
      "cell_type": "code",
      "metadata": {
        "id": "oCz3O7gAszJ6",
        "colab": {
          "base_uri": "https://localhost:8080/"
        },
        "outputId": "831050c7-482c-4fcd-b131-611c8a97b56b"
      },
      "source": [
        "p = [0, 5, 2, 10, 4, 9]\n",
        "# ordered list\n",
        "print(sorted(p, reverse=False))\n",
        "# get max value of list\n",
        "print(max(p))"
      ],
      "execution_count": null,
      "outputs": [
        {
          "output_type": "stream",
          "text": [
            "[0, 2, 4, 5, 9, 10]\n",
            "10\n"
          ],
          "name": "stdout"
        }
      ]
    },
    {
      "cell_type": "markdown",
      "metadata": {
        "id": "Nejk71aWszKE"
      },
      "source": [
        "Expected Output :\n",
        "\n",
        "[0, 2, 4, 5, 9, 10]\n",
        "\n",
        "10"
      ]
    },
    {
      "cell_type": "markdown",
      "metadata": {
        "id": "OEU53cA_szKG"
      },
      "source": [
        "<h2>Soal 6: List Operation</h2>\n",
        "\n",
        "Lengkapi kode untuk menghasilkan suatu output yang di harapkan"
      ]
    },
    {
      "cell_type": "code",
      "metadata": {
        "id": "N-dxC1qYszKJ",
        "colab": {
          "base_uri": "https://localhost:8080/"
        },
        "outputId": "94883bfb-1949-44f8-ff06-411e5158eff1"
      },
      "source": [
        "a = [1, 3, 5]\n",
        "b = [5, 1, 3]\n",
        "# combine list\n",
        "c = b + a\n",
        "print(c)"
      ],
      "execution_count": null,
      "outputs": [
        {
          "output_type": "stream",
          "text": [
            "[5, 1, 3, 1, 3, 5]\n"
          ],
          "name": "stdout"
        }
      ]
    },
    {
      "cell_type": "markdown",
      "metadata": {
        "id": "g0xy9HZrszKV"
      },
      "source": [
        "Expected Output :\n",
        "\n",
        "[5, 1, 3, 1, 3, 5]"
      ]
    },
    {
      "cell_type": "markdown",
      "metadata": {
        "id": "cggENDN4szKX"
      },
      "source": [
        "<h2>Soal 7: List Manipulation</h2>\n",
        "\n",
        "Lengkapi kode untuk menghasilkan suatu output yang di harapkan"
      ]
    },
    {
      "cell_type": "code",
      "metadata": {
        "id": "GOZQAPg9szKa",
        "colab": {
          "base_uri": "https://localhost:8080/"
        },
        "outputId": "191d977e-bff0-46a3-c9d7-de7bedddad33"
      },
      "source": [
        "a = [\n",
        "    [5, 9, 8],\n",
        "    [0, 0, 6]\n",
        "    ]\n",
        "# change list value\n",
        "a[0][2] = 10\n",
        "# change list value\n",
        "a[1][0] = 11\n",
        "print(a)"
      ],
      "execution_count": null,
      "outputs": [
        {
          "output_type": "stream",
          "text": [
            "[[5, 9, 10], [11, 0, 6]]\n"
          ],
          "name": "stdout"
        }
      ]
    },
    {
      "cell_type": "markdown",
      "metadata": {
        "id": "iYHFRJW7szKl"
      },
      "source": [
        "Expected Output :\n",
        "\n",
        "[ [5, 9, 10], [11, 0, 6] ]"
      ]
    },
    {
      "cell_type": "markdown",
      "metadata": {
        "id": "dSTDqY9iszKn"
      },
      "source": [
        "<h2>Soal 8: Delete Element List</h2>\n",
        "\n",
        "Lengkapi kode untuk menghasilkan suatu output yang di harapkan"
      ]
    },
    {
      "cell_type": "code",
      "metadata": {
        "id": "hTQNLWiUszKq",
        "colab": {
          "base_uri": "https://localhost:8080/"
        },
        "outputId": "f0e31d36-60c6-4138-e08b-101b3c05824b"
      },
      "source": [
        "areas = [\"hallway\", 11.25, \"kitchen\", 18.0,\n",
        "        \"chill zone\", 20.0, \"bedroom\", 10.75,\n",
        "         \"bathroom\", 10.50, \"poolhouse\", 24.5,\n",
        "         \"garage\", 15.45]\n",
        "\n",
        "# Hilangkan elemen yang bernilai \"bathroom\" dan 10.50 dalam satu statement code\n",
        "areas.pop(9)\n",
        "areas.pop(8)\n",
        "print(areas)"
      ],
      "execution_count": null,
      "outputs": [
        {
          "output_type": "stream",
          "text": [
            "['hallway', 11.25, 'kitchen', 18.0, 'chill zone', 20.0, 'bedroom', 10.75, 'poolhouse', 24.5, 'garage', 15.45]\n"
          ],
          "name": "stdout"
        }
      ]
    },
    {
      "cell_type": "markdown",
      "metadata": {
        "id": "ZeF61jc_szK1"
      },
      "source": [
        "Expected Output:\n",
        "\n",
        "['hallway',\n",
        " 11.25,\n",
        " 'kitchen',\n",
        " 18.0,\n",
        " 'chill zone',\n",
        " 20.0,\n",
        " 'bedroom',\n",
        " 10.75,\n",
        " 'poolhouse',\n",
        " 24.5,\n",
        " 'garage',\n",
        " 15.45]\n",
        "\n"
      ]
    },
    {
      "cell_type": "markdown",
      "metadata": {
        "id": "onKmJ3XqY5FN"
      },
      "source": [
        "## Soal 9: List Comprehension\n",
        "\n",
        "Gunakan metode **list comprehension** untuk mencari anggota dari S yang habis di bagi 2, kemudian assign hasilnya dalam bentuk list ke dalam variabel T."
      ]
    },
    {
      "cell_type": "code",
      "metadata": {
        "id": "xs3OWJP_Z5rb",
        "colab": {
          "base_uri": "https://localhost:8080/"
        },
        "outputId": "de1f1cb3-a4f0-4608-b4d2-5f22ca7eb02b"
      },
      "source": [
        "S = [0, 1, 4, 9, 16, 25, 36, 49, 64, 81]\n",
        "\n",
        "T = [i for i in S if i%2==0]\n",
        "\n",
        "print(T)"
      ],
      "execution_count": null,
      "outputs": [
        {
          "output_type": "stream",
          "text": [
            "[0, 4, 16, 36, 64]\n"
          ],
          "name": "stdout"
        }
      ]
    },
    {
      "cell_type": "markdown",
      "metadata": {
        "id": "Jjn-28CDaShb"
      },
      "source": [
        "Expected Output:\n",
        "\n",
        "[0, 4, 16, 36, 64]"
      ]
    },
    {
      "cell_type": "markdown",
      "metadata": {
        "id": "gdBwjXz8zoMi"
      },
      "source": [
        "# Dictionary"
      ]
    },
    {
      "cell_type": "markdown",
      "metadata": {
        "id": "fyoYEJKw6qoo"
      },
      "source": [
        "<h2>Soal 10: Akses Dictionary</h2>\n",
        "\n",
        "Lengkapi kode untuk menghasilkan suatu output yang di harapkan"
      ]
    },
    {
      "cell_type": "code",
      "metadata": {
        "id": "rs7ByDTw6qop",
        "colab": {
          "base_uri": "https://localhost:8080/"
        },
        "outputId": "a7e8625d-2944-48a0-8d40-4d24b6871d84"
      },
      "source": [
        "europe = {'spain':'madrid', 'france':'paris', 'germany':'berlin', 'norway':'oslo' }\n",
        "\n",
        "# print semua key yang ada di objek europe\n",
        "print(europe.keys())\n",
        "# print nilai dari key franche\n",
        "print(europe['france'])"
      ],
      "execution_count": null,
      "outputs": [
        {
          "output_type": "stream",
          "text": [
            "dict_keys(['spain', 'france', 'germany', 'norway'])\n",
            "paris\n"
          ],
          "name": "stdout"
        }
      ]
    },
    {
      "cell_type": "markdown",
      "metadata": {
        "id": "LF8QRq8E6qov"
      },
      "source": [
        "Expected Output:\n",
        "\n",
        "dict_keys(['spain', 'france', 'germany', 'norway'])\n",
        "\n",
        "paris"
      ]
    },
    {
      "cell_type": "markdown",
      "metadata": {
        "id": "qjMKbE9D6qow"
      },
      "source": [
        "<h2>Soal 11: Menambahkan key-value baru ke Dictionary</h2>\n",
        "\n",
        "Lengkapi kode untuk menghasilkan suatu output yang di harapkan"
      ]
    },
    {
      "cell_type": "code",
      "metadata": {
        "id": "rU7Z5dzC6qox",
        "colab": {
          "base_uri": "https://localhost:8080/"
        },
        "outputId": "3b6ebc4c-019f-4f45-fbe2-9cf2b1843e25"
      },
      "source": [
        "europe = {'spain':'madrid', 'france':'paris', 'germany':'berlin', 'norway':'oslo' }\n",
        "\n",
        "# tambahkan key itali ke objek dictionary dengan value roma\n",
        "europe['itali'] = 'roma'\n",
        "print(europe)\n",
        "# cek apakah itali ada di dalam objek dictionary\n",
        "print('itali' in europe)"
      ],
      "execution_count": null,
      "outputs": [
        {
          "output_type": "stream",
          "text": [
            "{'spain': 'madrid', 'france': 'paris', 'germany': 'berlin', 'norway': 'oslo', 'itali': 'roma'}\n",
            "True\n"
          ],
          "name": "stdout"
        }
      ]
    },
    {
      "cell_type": "markdown",
      "metadata": {
        "id": "ur84PUyz6qo1"
      },
      "source": [
        "Expected Output:\n",
        "    \n",
        "True"
      ]
    },
    {
      "cell_type": "markdown",
      "metadata": {
        "id": "bgilSLKl6qo2"
      },
      "source": [
        "<h2>Soal 12: Update dan Remove Dictinary</h2>\n",
        "    \n",
        "Lengkapi kode untuk menghasilkan suatu output yang di harapkan"
      ]
    },
    {
      "cell_type": "code",
      "metadata": {
        "id": "QO9EowXH6qo2",
        "colab": {
          "base_uri": "https://localhost:8080/"
        },
        "outputId": "5797f572-f88c-45ec-e71a-45a08ca227e3"
      },
      "source": [
        "europe = {'spain':'madrid', 'france':'paris', 'germany':'bonn',\n",
        "          'norway':'oslo', 'italy':'rome', 'poland':'warsaw',\n",
        "          'australia':'vienna' }\n",
        "\n",
        "# update nilai ibukota german ke berlin\n",
        "europe['germany'] = 'berlin'\n",
        "\n",
        "\n",
        "# remove australia dari europa\n",
        "europe.pop('australia')\n",
        "print(europe)"
      ],
      "execution_count": null,
      "outputs": [
        {
          "output_type": "stream",
          "text": [
            "{'spain': 'madrid', 'france': 'paris', 'germany': 'berlin', 'norway': 'oslo', 'italy': 'rome', 'poland': 'warsaw'}\n"
          ],
          "name": "stdout"
        }
      ]
    },
    {
      "cell_type": "markdown",
      "metadata": {
        "id": "VDpHuoXS6qo6"
      },
      "source": [
        "Expected Output:\n",
        "\n",
        "{'spain': 'madrid', 'france': 'paris', 'germany': 'berlin', 'norway': 'oslo', 'italy': 'rome', 'poland': 'warsaw'}"
      ]
    },
    {
      "cell_type": "markdown",
      "metadata": {
        "id": "FNWyId1S6qo7"
      },
      "source": [
        "<h2>Soal 13: Nested Dictionary</h2>\n",
        "    \n",
        "Lengkapi kode untuk menghasilkan suatu output yang di harapkan"
      ]
    },
    {
      "cell_type": "code",
      "metadata": {
        "id": "OAkJDiGd6qo7",
        "colab": {
          "base_uri": "https://localhost:8080/"
        },
        "outputId": "87caf457-3c21-47a7-8341-4daf13a1ed04"
      },
      "source": [
        "country = { \n",
        "           'spain': { 'capital':'madrid', 'population':46.77 },\n",
        "           'france': { 'capital':'paris', 'population':66.03 },\n",
        "           'germany': { 'capital':'berlin', 'population':80.62 },\n",
        "           'norway': { 'capital':'oslo', 'population':5.084 } \n",
        "         }\n",
        "\n",
        "# berapa populasi dari kota german?\n",
        "print(country['germany']['population'])\n",
        "# update data baru, yaitu negara indonesia dengan capital jakarta dan poulasi 250\n",
        "new = {'Indonesia': { 'capital':'Jakarta', 'population':250 } }\n",
        "country.update(new)\n",
        "\n",
        "print(country)"
      ],
      "execution_count": null,
      "outputs": [
        {
          "output_type": "stream",
          "text": [
            "80.62\n",
            "{'spain': {'capital': 'madrid', 'population': 46.77}, 'france': {'capital': 'paris', 'population': 66.03}, 'germany': {'capital': 'berlin', 'population': 80.62}, 'norway': {'capital': 'oslo', 'population': 5.084}, 'Indonesia': {'capital': 'Jakarta', 'population': 250}}\n"
          ],
          "name": "stdout"
        }
      ]
    },
    {
      "cell_type": "markdown",
      "metadata": {
        "id": "fKT0REFD6qo_"
      },
      "source": [
        "Expected Output:\n",
        "\n",
        "80.62\n",
        "\n",
        "{'spain': {'capital': 'madrid', 'population': 46.77}, 'france': {'capital': 'paris', 'population': 66.03}, 'germany': {'capital': 'berlin', 'population': 80.62}, 'norway': {'capital': 'oslo', 'population': 5.084}, 'indonesia': {'capital': 'jakarta', 'population': 250}}"
      ]
    },
    {
      "cell_type": "markdown",
      "metadata": {
        "id": "xefUN_T56qpA"
      },
      "source": [
        "<h2>Soal 14: Loop Dictionary</h2>\n",
        "    \n",
        "Lengkapi kode untuk menghasilkan suatu output yang di harapkan"
      ]
    },
    {
      "cell_type": "code",
      "metadata": {
        "id": "SkYQ0sD76qpA",
        "colab": {
          "base_uri": "https://localhost:8080/"
        },
        "outputId": "0949bda0-d25d-414b-c7c4-ea13a81c6944"
      },
      "source": [
        "country = { \n",
        "           'spain': { 'capital':'madrid', 'population':46.77 },\n",
        "           'france': { 'capital':'paris', 'population':66.03 },\n",
        "           'germany': { 'capital':'berlin', 'population':80.62 },\n",
        "           'norway': { 'capital':'oslo', 'population':5.084 },\n",
        "           'indonesia' : {'capital':'jakarta', 'population':250}\n",
        "         }\n",
        "\n",
        "for negara, info in country.items():\n",
        "    print(\"Ibukota \" + negara + \" adalah \" + info['capital'] )\n"
      ],
      "execution_count": null,
      "outputs": [
        {
          "output_type": "stream",
          "text": [
            "Ibukota spain adalah madrid\n",
            "Ibukota france adalah paris\n",
            "Ibukota germany adalah berlin\n",
            "Ibukota norway adalah oslo\n",
            "Ibukota indonesia adalah jakarta\n"
          ],
          "name": "stdout"
        }
      ]
    },
    {
      "cell_type": "markdown",
      "metadata": {
        "id": "YjX6xAtj6qpE"
      },
      "source": [
        "Expected Output:\n",
        "    \n",
        "Ibukota spain adalah madrid\n",
        "\n",
        "Ibukota france adalah paris\n",
        "\n",
        "Ibukota germany adalah berlin\n",
        "\n",
        "Ibukota norway adalah oslo\n",
        "\n",
        "Ibukota indonesia adalah jakarta"
      ]
    }
  ]
}
