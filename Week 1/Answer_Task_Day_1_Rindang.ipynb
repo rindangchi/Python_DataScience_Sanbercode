{
  "nbformat": 4,
  "nbformat_minor": 0,
  "metadata": {
    "kernelspec": {
      "display_name": "Python 3",
      "language": "python",
      "name": "python3"
    },
    "language_info": {
      "codemirror_mode": {
        "name": "ipython",
        "version": 3
      },
      "file_extension": ".py",
      "mimetype": "text/x-python",
      "name": "python",
      "nbconvert_exporter": "python",
      "pygments_lexer": "ipython3",
      "version": "3.7.7"
    },
    "colab": {
      "name": "Jawaban Tugas Hari 1 Rindang.ipynb",
      "provenance": []
    }
  },
  "cells": [
    {
      "cell_type": "markdown",
      "metadata": {
        "id": "37V7ZOpEwt-6"
      },
      "source": [
        "<h2>Soal 1: Hello World to Python</h2>\n",
        "    \n",
        "Print Say Hello World to Python"
      ]
    },
    {
      "cell_type": "code",
      "metadata": {
        "id": "a4yR8AILwt-8",
        "outputId": "8547b9b3-9159-465b-fbbe-96900d82c2ed",
        "colab": {
          "base_uri": "https://localhost:8080/"
        }
      },
      "source": [
        "print('Hello World Python')"
      ],
      "execution_count": null,
      "outputs": [
        {
          "output_type": "stream",
          "text": [
            "Hello World Python\n"
          ],
          "name": "stdout"
        }
      ]
    },
    {
      "cell_type": "markdown",
      "metadata": {
        "id": "fftihhaUwt_B"
      },
      "source": [
        "Expected Output : \n",
        "\n",
        "Hello World Python"
      ]
    },
    {
      "cell_type": "markdown",
      "metadata": {
        "id": "1aEipc1Swt_C"
      },
      "source": [
        "<h2>Soal 2: Aritmatika di Python </h2>\n",
        "    \n",
        "- Buat statement pertambahan antara 2 number di Python\n",
        "- Buat statement perkurangan antara 2 number di Python\n",
        "- Buat statement perkalian antara 2 number di Python\n",
        "- Buat statement pembagian antara 2 number di Python"
      ]
    },
    {
      "cell_type": "code",
      "metadata": {
        "id": "aXNHIrYi_vcG",
        "outputId": "be4158db-8ce5-455a-ed7a-b11349d13832",
        "colab": {
          "base_uri": "https://localhost:8080/"
        }
      },
      "source": [
        " #penjumlahan\n",
        " print(\"penjumlahan:\")\n",
        " print(1 + 9)\n",
        "\n",
        " #pengurangan\n",
        " print(\"pengurangan:\")\n",
        " print(1-5)\n",
        "\n",
        " #perkalian\n",
        " print(\"perkalian:\")\n",
        " print(3*6)\n",
        "\n",
        " #pembagian\n",
        " print(\"pembagian:\")\n",
        " print(4/3)\n",
        "\n",
        " #pembagian dengan pembulatan\n",
        " print(\"pembagian dengan pembulatan :\")\n",
        " print(4//3)"
      ],
      "execution_count": null,
      "outputs": [
        {
          "output_type": "stream",
          "text": [
            "penjumlahan:\n",
            "10\n",
            "pengurangan:\n",
            "-4\n",
            "perkalian:\n",
            "18\n",
            "pembagian:\n",
            "1.3333333333333333\n",
            "pembagian dengan pembulatan :\n",
            "1\n"
          ],
          "name": "stdout"
        }
      ]
    },
    {
      "cell_type": "markdown",
      "metadata": {
        "id": "DgUFNMtZwt_G"
      },
      "source": [
        "<h2>Quiz 3: Assign Variable dan Tipe Data Integer, Float </h2>\n",
        "\n",
        "- Buat suatu variabel a dan b, dimana a dan b adalah nilai bertipe data numeric\n",
        "- Berikan suatu nilai bertipe data integer, hasil pembagian dari a dengan b\n",
        "- Berikan suatu nilai bertipe data float, hasil pembagian dari a dengan b"
      ]
    },
    {
      "cell_type": "code",
      "metadata": {
        "id": "Qf8wzMg5wt_H",
        "outputId": "fdafff86-895c-42fc-aeea-711fe6d87216",
        "colab": {
          "base_uri": "https://localhost:8080/"
        }
      },
      "source": [
        "a = 5\n",
        "b = 10\n",
        "\n",
        "#print data integer\n",
        "print('hasil bagi integer : ')\n",
        "c = int(a/b)\n",
        "print(c)\n",
        "\n",
        "#print data float\n",
        "print('hasil bagi float : ')\n",
        "d = a/b\n",
        "print(d)"
      ],
      "execution_count": null,
      "outputs": [
        {
          "output_type": "stream",
          "text": [
            "hasil bagi integer : \n",
            "0\n",
            "hasil bagi float : \n",
            "0.5\n"
          ],
          "name": "stdout"
        }
      ]
    },
    {
      "cell_type": "markdown",
      "metadata": {
        "id": "XmjLgW7Zwt_L"
      },
      "source": [
        "<h2>Soal 4: String Operation </h2>\n",
        "\n",
        "- masukan nama depan kamu kedalam suatu variable firstname\n",
        "- masukan nama belakang kamu kedalam suatu variable lasname\n",
        "- tampilkan suatu kalimat 'Hello sanbercode, saya firstname lastname! saya siap belajar python data science.'"
      ]
    },
    {
      "cell_type": "code",
      "metadata": {
        "id": "lSRwZ7xXwt_M",
        "outputId": "39297208-b973-463c-bd99-e21b86b4c85e",
        "colab": {
          "base_uri": "https://localhost:8080/"
        }
      },
      "source": [
        "firstname = 'rindang'\n",
        "lastname = 'cahyaning'\n",
        "print('Hello sanbercode,' + ' ' + 'saya' + ' ' + firstname + lastname + '!' + ' '+ 'saya siap belajar python data science.' )"
      ],
      "execution_count": null,
      "outputs": [
        {
          "output_type": "stream",
          "text": [
            "Hello sanbercode, saya rindangcahyaning! saya siap belajar python data science.\n"
          ],
          "name": "stdout"
        }
      ]
    },
    {
      "cell_type": "markdown",
      "metadata": {
        "id": "0ROQJqBXwt_Q"
      },
      "source": [
        "Expected Output :\n",
        "\n",
        "Hello sanbercode, saya fauzan taufik! saya siap belajar python data science."
      ]
    },
    {
      "cell_type": "markdown",
      "metadata": {
        "id": "9DaWI8xdwt_Q"
      },
      "source": [
        "<h2>Soal 5: Tipe Data</h2>\n",
        "\n",
        "Lengkapi code di bawah ini untuk menghasilkan output yang sesuai"
      ]
    },
    {
      "cell_type": "code",
      "metadata": {
        "id": "wcDbgbjTwt_R",
        "outputId": "1b10e322-5ef4-47df-9b72-218542f75a70",
        "colab": {
          "base_uri": "https://localhost:8080/"
        }
      },
      "source": [
        "p = 9.99999\n",
        "q = 'the number: '\n",
        "print(q + str(p))"
      ],
      "execution_count": null,
      "outputs": [
        {
          "output_type": "stream",
          "text": [
            "the number: 9.99999\n"
          ],
          "name": "stdout"
        }
      ]
    },
    {
      "cell_type": "markdown",
      "metadata": {
        "id": "wdVRjDoLwt_V"
      },
      "source": [
        "Expected Output :\n",
        "\n",
        "the number: 9.99999"
      ]
    }
  ]
}
