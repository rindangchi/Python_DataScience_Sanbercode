{
  "nbformat": 4,
  "nbformat_minor": 0,
  "metadata": {
    "kernelspec": {
      "display_name": "Python 3",
      "language": "python",
      "name": "python3"
    },
    "language_info": {
      "codemirror_mode": {
        "name": "ipython",
        "version": 3
      },
      "file_extension": ".py",
      "mimetype": "text/x-python",
      "name": "python",
      "nbconvert_exporter": "python",
      "pygments_lexer": "ipython3",
      "version": "3.7.6"
    },
    "colab": {
      "name": "Jawaban Tugas Hari 3 Pekan 4.ipynb",
      "provenance": [],
      "collapsed_sections": []
    }
  },
  "cells": [
    {
      "cell_type": "markdown",
      "metadata": {
        "id": "PrQVcF-ldGWQ"
      },
      "source": [
        "<h1> Soal 1: Pemahaman Tentang Model Evaluasi</h1>\n",
        "\n",
        "Jawab pertanyaan di bawah ini dengan bahasa masing-masing?\n",
        "\n",
        "1. Apa perbedaan antara data latih, data validasi, dan data test?\n",
        "2. Bagaimana cara kita menilai performa suatu model?\n",
        "3. Apa itu Confusion Matrix? Jelaskan secara lengkap!\n",
        "4. Apa itu Classification Report dari sklearn?"
      ]
    },
    {
      "cell_type": "markdown",
      "metadata": {
        "id": "sr6D5UIhgpwO"
      },
      "source": [
        "Jawab:\n",
        "1. Data latih merupakan data yang digunakan untuk membentuk model, data validasi merupakan data yang digunakan untuk mengecek seberapa baik model yang telah dibuat, sedangkan data testing merupakan data yang digunakan untuk mengetes model dan merupakan simulasi penerapan model dalam di dunia nyata, data testing merupakan data yang baru yang belum pernah digunakan untuk training maupun validasi\n",
        "\n",
        "2. Evaluasi terhadap model dapat dilakukan dengan menggunakan metrics accurracy \n",
        "\n",
        "3. Confussion matrix merupakan tabel matriks yang digunakan untuk menilai kinerja sebuah model terhadap data uji dimana nilai sebenarnya dari data uji tersebut sudah diketahui. Interpretasi hasil dari confussion matrix dibagi menjadi 4, yaitu TRUE FOSITIVE (TP), TRUE NEGATIVE (TN), FALSE POSITIVE (FP), dan FALSE NEGATIVE (FN)\n",
        "\n",
        "4. Classification report menampilkan nilai precision, recall, f1, dan support score dari sebuah model "
      ]
    },
    {
      "cell_type": "markdown",
      "metadata": {
        "id": "Fv2TVsgAdGWY"
      },
      "source": [
        "<h1>Soal 2: Aplikasi Model Evaluasi</h1>\n",
        "\n",
        "Kali ini kita akan menggunakan data untuk memprediksi kelangsungan hidup pasien yang telah mengalami operasi payudara. Dengan informasi yang dimiliki terkait pasien, kita akan membuat model untuk memprediksi apakah pasien akan bertahan hidup dalam waktu lebih dari 5 tahun atau tidak.\n",
        "\n",
        "Lebih Lengkapnya kalian bisa membaca informasi tentang dataset di link berikut: https://raw.githubusercontent.com/jbrownlee/Datasets/master/haberman.names\n",
        "\n",
        "Buat model Klasifikasi (Model/Algoritma Bebas) untuk memprediksi status pasien dengan ketentuan sebagai berikut:\n",
        "\n",
        "1. Bagi kedua data ini menjadi data training dan data test dengan test_size=0.25.\n",
        "3. Pelajar tentang metrics roc_auc_score kemudian buatlah model dan evaluasi dengan menggunakan teknik cross-validation dengan scoring 'roc_auc'. Baca https://scikit-learn.org/stable/modules/generated/sklearn.model_selection.cross_val_score.html untuk menggunakan metric roc_auc saat cross-validation.\n",
        "3. Berapa score rata2 dari model dengan teknik cross-validation tersebut?\n",
        "4. Prediksi data test dengan model yang telah kalian buat!\n",
        "5. Bagaimana hasil confusion matrix dari hasil prediksi tersebut?\n",
        "6. Bagaimana classification report dari hasil prediksi tersebut?\n",
        "5. Seberapa baik model anda dalam memprediksi seorang pasien mempunyai status positive?\n",
        "6. Seberapa baik model anda dalam memprediksi seorang pasien mempunyai status negatif?"
      ]
    },
    {
      "cell_type": "code",
      "metadata": {
        "id": "g4UqaWyPdGWj"
      },
      "source": [
        "import pandas as pd\n",
        "\n",
        "url = 'https://raw.githubusercontent.com/jbrownlee/Datasets/master/haberman.csv'\n",
        "list_cols = ['Age', \"Patient's Years\", \"N_positive_ax\", \"survival_status\"]\n",
        "df = pd.read_csv(url, names=list_cols)"
      ],
      "execution_count": 82,
      "outputs": []
    },
    {
      "cell_type": "code",
      "metadata": {
        "id": "YrbPNGtHdGXV",
        "colab": {
          "base_uri": "https://localhost:8080/",
          "height": 204
        },
        "outputId": "610c8ea8-6599-44c9-9c74-3d838e87cd29"
      },
      "source": [
        "df.head()"
      ],
      "execution_count": 83,
      "outputs": [
        {
          "output_type": "execute_result",
          "data": {
            "text/html": [
              "<div>\n",
              "<style scoped>\n",
              "    .dataframe tbody tr th:only-of-type {\n",
              "        vertical-align: middle;\n",
              "    }\n",
              "\n",
              "    .dataframe tbody tr th {\n",
              "        vertical-align: top;\n",
              "    }\n",
              "\n",
              "    .dataframe thead th {\n",
              "        text-align: right;\n",
              "    }\n",
              "</style>\n",
              "<table border=\"1\" class=\"dataframe\">\n",
              "  <thead>\n",
              "    <tr style=\"text-align: right;\">\n",
              "      <th></th>\n",
              "      <th>Age</th>\n",
              "      <th>Patient's Years</th>\n",
              "      <th>N_positive_ax</th>\n",
              "      <th>survival_status</th>\n",
              "    </tr>\n",
              "  </thead>\n",
              "  <tbody>\n",
              "    <tr>\n",
              "      <th>0</th>\n",
              "      <td>30</td>\n",
              "      <td>64</td>\n",
              "      <td>1</td>\n",
              "      <td>1</td>\n",
              "    </tr>\n",
              "    <tr>\n",
              "      <th>1</th>\n",
              "      <td>30</td>\n",
              "      <td>62</td>\n",
              "      <td>3</td>\n",
              "      <td>1</td>\n",
              "    </tr>\n",
              "    <tr>\n",
              "      <th>2</th>\n",
              "      <td>30</td>\n",
              "      <td>65</td>\n",
              "      <td>0</td>\n",
              "      <td>1</td>\n",
              "    </tr>\n",
              "    <tr>\n",
              "      <th>3</th>\n",
              "      <td>31</td>\n",
              "      <td>59</td>\n",
              "      <td>2</td>\n",
              "      <td>1</td>\n",
              "    </tr>\n",
              "    <tr>\n",
              "      <th>4</th>\n",
              "      <td>31</td>\n",
              "      <td>65</td>\n",
              "      <td>4</td>\n",
              "      <td>1</td>\n",
              "    </tr>\n",
              "  </tbody>\n",
              "</table>\n",
              "</div>"
            ],
            "text/plain": [
              "   Age  Patient's Years  N_positive_ax  survival_status\n",
              "0   30               64              1                1\n",
              "1   30               62              3                1\n",
              "2   30               65              0                1\n",
              "3   31               59              2                1\n",
              "4   31               65              4                1"
            ]
          },
          "metadata": {
            "tags": []
          },
          "execution_count": 83
        }
      ]
    },
    {
      "cell_type": "code",
      "metadata": {
        "id": "-dxYNPg7dGX4",
        "colab": {
          "base_uri": "https://localhost:8080/"
        },
        "outputId": "bbe6685e-b52e-480e-e592-0a65ef08ce66"
      },
      "source": [
        "df['survival_status'].value_counts()"
      ],
      "execution_count": 84,
      "outputs": [
        {
          "output_type": "execute_result",
          "data": {
            "text/plain": [
              "1    225\n",
              "2     81\n",
              "Name: survival_status, dtype: int64"
            ]
          },
          "metadata": {
            "tags": []
          },
          "execution_count": 84
        }
      ]
    },
    {
      "cell_type": "code",
      "metadata": {
        "id": "8W2amvZgdGYX"
      },
      "source": [
        "# Code here\n",
        "#memisahkan label dan variabe prediktor\n",
        "\n",
        "X = df.drop('survival_status', axis=1)\n",
        "y = df['survival_status']\n",
        "\n",
        "\n",
        "#membagi data menjadi dua bagian untuk training dan testing\n",
        "from sklearn.model_selection import train_test_split\n",
        "X_train, X_test, y_train, y_test = train_test_split(X, y, test_size=0.25, random_state=21, stratify = y)\n"
      ],
      "execution_count": 85,
      "outputs": []
    },
    {
      "cell_type": "code",
      "metadata": {
        "colab": {
          "base_uri": "https://localhost:8080/"
        },
        "id": "1drkRBxb20N7",
        "outputId": "92da9f6a-4e71-4628-f82a-33d4fff3aabc"
      },
      "source": [
        "#Membuat model KNN\n",
        "from sklearn.neighbors import KNeighborsClassifier\n",
        "knn = KNeighborsClassifier(n_neighbors = 5 , weights = 'uniform')\n",
        "\n",
        "#menghitung cross val score\n",
        "from sklearn.model_selection import cross_val_score\n",
        "cv_results = cross_val_score(knn, X, y, cv= 5)\n",
        "cv_results.mean()\n",
        "\n",
        "print('score rata-rata model adalah:', cv_results.mean())"
      ],
      "execution_count": 86,
      "outputs": [
        {
          "output_type": "stream",
          "text": [
            "score rata-rata model adalah: 0.7286620835536752\n"
          ],
          "name": "stdout"
        }
      ]
    },
    {
      "cell_type": "code",
      "metadata": {
        "id": "Wzz1dwzS7AIo"
      },
      "source": [
        "#melakukan prediksi data tes\n",
        "knn.fit(X_train, y_train)\n",
        "y_pred = knn.predict(X_test)"
      ],
      "execution_count": 87,
      "outputs": []
    },
    {
      "cell_type": "code",
      "metadata": {
        "id": "Bwv2Rwnw7n4y",
        "colab": {
          "base_uri": "https://localhost:8080/"
        },
        "outputId": "350a8ddd-3690-40e0-d53f-eb2009ccdc06"
      },
      "source": [
        "#confusion matrix\n",
        "from sklearn.metrics import confusion_matrix, classification_report, plot_confusion_matrix\n",
        "\n",
        "confusion_matrix(y_test, y_pred, labels=[1,2])\n"
      ],
      "execution_count": 88,
      "outputs": [
        {
          "output_type": "execute_result",
          "data": {
            "text/plain": [
              "array([[47, 10],\n",
              "       [14,  6]])"
            ]
          },
          "metadata": {
            "tags": []
          },
          "execution_count": 88
        }
      ]
    },
    {
      "cell_type": "code",
      "metadata": {
        "colab": {
          "base_uri": "https://localhost:8080/",
          "height": 296
        },
        "id": "uVpEdaT9SidH",
        "outputId": "9db52e15-272a-45a8-b060-98a4a63e4736"
      },
      "source": [
        "plot_confusion_matrix(knn, X_test, y_test,  labels=[1,2])"
      ],
      "execution_count": 89,
      "outputs": [
        {
          "output_type": "execute_result",
          "data": {
            "text/plain": [
              "<sklearn.metrics._plot.confusion_matrix.ConfusionMatrixDisplay at 0x7f02ca190198>"
            ]
          },
          "metadata": {
            "tags": []
          },
          "execution_count": 89
        },
        {
          "output_type": "display_data",
          "data": {
            "image/png": "[encoded data removed]",
            "text/plain": [
              "<Figure size 432x288 with 2 Axes>"
            ]
          },
          "metadata": {
            "tags": [],
            "needs_background": "light"
          }
        }
      ]
    },
    {
      "cell_type": "code",
      "metadata": {
        "id": "z2St-Xp_cvxH"
      },
      "source": [
        "TP = 47\n",
        "TN = 6\n",
        "FP = 14\n",
        "FN = 10\n",
        "\n"
      ],
      "execution_count": 101,
      "outputs": []
    },
    {
      "cell_type": "code",
      "metadata": {
        "colab": {
          "base_uri": "https://localhost:8080/"
        },
        "id": "Y2Yr_d7fYnAI",
        "outputId": "a845d486-b71f-4890-be9a-c4c008442817"
      },
      "source": [
        "#classification report \n",
        "\n",
        "print(classification_report(y_test, y_pred))"
      ],
      "execution_count": 100,
      "outputs": [
        {
          "output_type": "stream",
          "text": [
            "              precision    recall  f1-score   support\n",
            "\n",
            "           1       0.77      0.82      0.80        57\n",
            "           2       0.38      0.30      0.33        20\n",
            "\n",
            "    accuracy                           0.69        77\n",
            "   macro avg       0.57      0.56      0.56        77\n",
            "weighted avg       0.67      0.69      0.68        77\n",
            "\n"
          ],
          "name": "stdout"
        }
      ]
    },
    {
      "cell_type": "code",
      "metadata": {
        "colab": {
          "base_uri": "https://localhost:8080/"
        },
        "id": "tHBan-Z6c_nc",
        "outputId": "4204c50f-5d7c-457c-f1b1-3118871b38a1"
      },
      "source": [
        "#precision untuk data positif  --> untuk memprediksi pasien dengan status positif model sudah cukup baik dengan tingkat presisi 77%\n",
        "precision = TP/(TP+FP)\n",
        "precision"
      ],
      "execution_count": 102,
      "outputs": [
        {
          "output_type": "execute_result",
          "data": {
            "text/plain": [
              "0.7704918032786885"
            ]
          },
          "metadata": {
            "tags": []
          },
          "execution_count": 102
        }
      ]
    },
    {
      "cell_type": "code",
      "metadata": {
        "colab": {
          "base_uri": "https://localhost:8080/"
        },
        "id": "rUxgAmIQijdw",
        "outputId": "f183a113-10d7-43da-e5bc-7bf6575e8d64"
      },
      "source": [
        "#recall data positif\n",
        "recall = TP/(TP+FN)\n",
        "recall\n"
      ],
      "execution_count": 105,
      "outputs": [
        {
          "output_type": "execute_result",
          "data": {
            "text/plain": [
              "0.8245614035087719"
            ]
          },
          "metadata": {
            "tags": []
          },
          "execution_count": 105
        }
      ]
    },
    {
      "cell_type": "code",
      "metadata": {
        "colab": {
          "base_uri": "https://localhost:8080/"
        },
        "id": "3GSWUEdRdMX5",
        "outputId": "37bda4ca-591f-4443-fbdf-c42c593319be"
      },
      "source": [
        "#precision untuk data negatif --> untuk memprediksi pasien dengan status negatif model masih sangat buruk karena tingkat presisi hanya 37,5%\n",
        "precision_negatif = TN/(TN+FN)\n",
        "precision_negatif"
      ],
      "execution_count": 103,
      "outputs": [
        {
          "output_type": "execute_result",
          "data": {
            "text/plain": [
              "0.375"
            ]
          },
          "metadata": {
            "tags": []
          },
          "execution_count": 103
        }
      ]
    },
    {
      "cell_type": "code",
      "metadata": {
        "colab": {
          "base_uri": "https://localhost:8080/"
        },
        "id": "MLN-Wbuci3IC",
        "outputId": "da30e437-434d-4790-b939-9547128fee8f"
      },
      "source": [
        "#recall data negatif\n",
        "recall_negatif = TN/(TN+FP)\n",
        "recall_negatif"
      ],
      "execution_count": 108,
      "outputs": [
        {
          "output_type": "execute_result",
          "data": {
            "text/plain": [
              "0.3"
            ]
          },
          "metadata": {
            "tags": []
          },
          "execution_count": 108
        }
      ]
    },
    {
      "cell_type": "markdown",
      "metadata": {
        "id": "teekoyIw--g2"
      },
      "source": [
        "<h1> Soal 3: Pemahaman Tentang Model Selection</h1>\n",
        "\n",
        "Jelaskan dengan bahasa sendiri!\n",
        "\n",
        "1. Apa itu Bias dan Variance?\n",
        "2. Apa itu Overfitting dan Underfitting?\n",
        "3. Apa yang bisa kita lakukan untuk mengatur kompleksitas dari model?\n",
        "4. Bagaimana model yang baik?\n",
        "5. Kapan kita menggunakan GridSearchcv dan kapan menggunakan RandomizedSearchCV?"
      ]
    },
    {
      "cell_type": "markdown",
      "metadata": {
        "id": "4a1l4RNf_FcU"
      },
      "source": [
        "Jawab:\n",
        "1. Bias merupakan perbedaan rata-rata antara hasil prediksi dari model yang telah dibuat dengan data sebenarnya. Variance merupakan variabel dari prediksi model yang memberikan informasi mengenai sebaran data.\n",
        "2.Overfitting merupakan keadaan dimana data yang digunakan untuk training merupakan data yang terbaik, sehingga ketika diberikan data baru yang berbeda tingkat akurasi model akan berkurang. Underfitting merupakan model yang terlalu sederhana sehingga dan tidak mewakili keseluruhan datayang akan diguanakan nantinya\n",
        "3. Untuk mengatur kompleksitas model yang dapat dilakukan adalah dengan mengatur hyperparameter pada setiap model dan value yang diisikan pada masing-masing hyperparameter, selain itu pemilihan algoritma juga dapat mempengaruhi kompleksitas mmodel\n",
        "4. Model yang baik merupakan model yang mampu menemukan keseimbangan antara variance error dan bias error sehingga tidak terjadi overfitting maupun underfitting\n",
        "4. Randomizedcv dapat digunakan ketika jumlah data sangat besar untuk mengurangi waktu proses training sedangkan GridSearchCV dapat digunakan ketika jumlah data tidak terlalu banyak\n"
      ]
    },
    {
      "cell_type": "markdown",
      "metadata": {
        "id": "Svj_cgxF_IZv"
      },
      "source": [
        "---"
      ]
    },
    {
      "cell_type": "markdown",
      "metadata": {
        "id": "Hkh-PeRL_LZp"
      },
      "source": [
        "<h1> Soal 4: Aplikasi Model Selection</h1>\n",
        "\n",
        "1. Bagi kedua data berikut ini menjadi data training dan data test dengan test_size=0.25.\n",
        "2. Gunakan algoritma KNN sebagai model classifier.\n",
        "3. Gunakan fungsi GridSearchCV untuk hyperparameter tuning dan model selection.\n",
        "4. jumlah fold bebas!, gunakan scoring 'roc_auc'\n",
        "5. Definisikan kombinasi hyperparameter untuk model selection dengan GridSearchCV. kombinasi Hyperparameter bebas, baca lagi dokumentasi KNN di link berikut https://scikit-learn.org/stable/modules/generated/sklearn.neighbors.KNeighborsClassifier.html untuk memahami lagi jenis2 hyperparameter di algorithma KNN.\n",
        "6. Latih model terhadap data training.\n",
        "7. Apa hyperparameter terbaik untuk kombinasi hyperparameter kalian?\n",
        "8. Berapa score validasi terbaik dari model tersebut?\n",
        "9. Prediksi probabilitasi output dari model yang telah di buat terhadap data test. note : gunakan method .predict_proba() untuk menghasilkan output probabilitas\n",
        "10. Perhatikan bahwa hasil prediksi ada 2, dimana masing2 adalah nilai probabilitas untuk setiap class label. Ambil nilai probabilitas pasien phositive meninggal dalam waktu kurang dari 5 tahun. note : gunakan bantuan attirubte .classes_ untuk mengetahui urutan label dari hasil prediksi probabilitas.\n",
        "11. Berapa nilai score roc_auc untuk data test?\n",
        "12. Apakah model anda termasuk baik, overtting, atau underfitting?\n",
        "13. Ulangi tahap di atas namun kali ini menggunakan algoritma DecisionTreeClassifier dan kalian bisa menggunakan RandomizedSearchCV apabila process training lama. pelajari algoritma DecisionTreeClassifier di linkberikut: https://scikit-learn.org/stable/modules/generated/sklearn.tree.DecisionTreeClassifier.html?highlight=decisiontreeclassifier#sklearn.tree.DecisionTreeClassifier\n",
        "14. Bandingkan scorenya dengan Algoritma KNN, mana yang lebih baik?\n",
        "\n",
        "Note : Data Science adalah experiment, sangat di dimungkinkan memerlukan beberapa kali percobaan untuk mendapatkan hasil yang terbaik! Happy Coding :)"
      ]
    },
    {
      "cell_type": "code",
      "metadata": {
        "id": "l_zK8Mqb-9Z6"
      },
      "source": [
        "import pandas as pd\n",
        "\n",
        "url = 'https://raw.githubusercontent.com/jbrownlee/Datasets/master/haberman.csv'\n",
        "list_cols = ['Age', \"Patient's Years\", \"N_positive_ax\", \"survival_status\"]\n",
        "df = pd.read_csv(url, names=list_cols)\n",
        "df"
      ],
      "execution_count": null,
      "outputs": []
    },
    {
      "cell_type": "code",
      "metadata": {
        "id": "qb-AD43R_V_d",
        "colab": {
          "base_uri": "https://localhost:8080/",
          "height": 204
        },
        "outputId": "9af2ed9c-15b8-4e70-be41-c9591054d867"
      },
      "source": [
        "df.head()"
      ],
      "execution_count": 110,
      "outputs": [
        {
          "output_type": "execute_result",
          "data": {
            "text/html": [
              "<div>\n",
              "<style scoped>\n",
              "    .dataframe tbody tr th:only-of-type {\n",
              "        vertical-align: middle;\n",
              "    }\n",
              "\n",
              "    .dataframe tbody tr th {\n",
              "        vertical-align: top;\n",
              "    }\n",
              "\n",
              "    .dataframe thead th {\n",
              "        text-align: right;\n",
              "    }\n",
              "</style>\n",
              "<table border=\"1\" class=\"dataframe\">\n",
              "  <thead>\n",
              "    <tr style=\"text-align: right;\">\n",
              "      <th></th>\n",
              "      <th>Age</th>\n",
              "      <th>Patient's Years</th>\n",
              "      <th>N_positive_ax</th>\n",
              "      <th>survival_status</th>\n",
              "    </tr>\n",
              "  </thead>\n",
              "  <tbody>\n",
              "    <tr>\n",
              "      <th>0</th>\n",
              "      <td>30</td>\n",
              "      <td>64</td>\n",
              "      <td>1</td>\n",
              "      <td>1</td>\n",
              "    </tr>\n",
              "    <tr>\n",
              "      <th>1</th>\n",
              "      <td>30</td>\n",
              "      <td>62</td>\n",
              "      <td>3</td>\n",
              "      <td>1</td>\n",
              "    </tr>\n",
              "    <tr>\n",
              "      <th>2</th>\n",
              "      <td>30</td>\n",
              "      <td>65</td>\n",
              "      <td>0</td>\n",
              "      <td>1</td>\n",
              "    </tr>\n",
              "    <tr>\n",
              "      <th>3</th>\n",
              "      <td>31</td>\n",
              "      <td>59</td>\n",
              "      <td>2</td>\n",
              "      <td>1</td>\n",
              "    </tr>\n",
              "    <tr>\n",
              "      <th>4</th>\n",
              "      <td>31</td>\n",
              "      <td>65</td>\n",
              "      <td>4</td>\n",
              "      <td>1</td>\n",
              "    </tr>\n",
              "  </tbody>\n",
              "</table>\n",
              "</div>"
            ],
            "text/plain": [
              "   Age  Patient's Years  N_positive_ax  survival_status\n",
              "0   30               64              1                1\n",
              "1   30               62              3                1\n",
              "2   30               65              0                1\n",
              "3   31               59              2                1\n",
              "4   31               65              4                1"
            ]
          },
          "metadata": {
            "tags": []
          },
          "execution_count": 110
        }
      ]
    },
    {
      "cell_type": "code",
      "metadata": {
        "id": "znc1dEGO_XU2"
      },
      "source": [
        "# Code here\n",
        "#preprocssing data dan membagi data mennjadi data training dan data testing\n",
        "X = df.drop('survival_status', axis=1)\n",
        "y = df['survival_status']\n",
        "\n",
        "from sklearn.model_selection import train_test_split\n",
        "X_train, X_test, y_train, y_test = train_test_split(X, y, test_size=0.25, random_state=21, stratify = y)\n",
        "\n",
        "y_test"
      ],
      "execution_count": null,
      "outputs": []
    },
    {
      "cell_type": "code",
      "metadata": {
        "id": "mSv_sswZu9d6"
      },
      "source": [
        "#Membuat model KNN\n",
        "from sklearn.neighbors import KNeighborsClassifier\n",
        "knn = KNeighborsClassifier()\n"
      ],
      "execution_count": 179,
      "outputs": []
    },
    {
      "cell_type": "code",
      "metadata": {
        "colab": {
          "base_uri": "https://localhost:8080/"
        },
        "id": "8sAGWLigXTYt",
        "outputId": "f5dbdfd5-e091-4471-c366-b4d0ebbdb139"
      },
      "source": [
        "#menggunakan fungsi gridsearh untuk melakukan tuning dan memilih model terbaik\n",
        "from sklearn.model_selection import GridSearchCV\n",
        "from sklearn.metrics import roc_auc_score\n",
        "import numpy as np\n",
        "\n",
        "\n",
        "param_grid = {'n_neighbors': np.arange(2, 50), 'weights': ['uniform', 'distance']}\n",
        "gscv = GridSearchCV(knn, param_grid = param_grid, scoring = 'roc_auc', cv = 10)\n",
        "gscv.fit(X_train, y_train)\n"
      ],
      "execution_count": 180,
      "outputs": [
        {
          "output_type": "execute_result",
          "data": {
            "text/plain": [
              "GridSearchCV(cv=10, error_score=nan,\n",
              "             estimator=KNeighborsClassifier(algorithm='auto', leaf_size=30,\n",
              "                                            metric='minkowski',\n",
              "                                            metric_params=None, n_jobs=None,\n",
              "                                            n_neighbors=5, p=2,\n",
              "                                            weights='uniform'),\n",
              "             iid='deprecated', n_jobs=None,\n",
              "             param_grid={'n_neighbors': array([ 2,  3,  4,  5,  6,  7,  8,  9, 10, 11, 12, 13, 14, 15, 16, 17, 18,\n",
              "       19, 20, 21, 22, 23, 24, 25, 26, 27, 28, 29, 30, 31, 32, 33, 34, 35,\n",
              "       36, 37, 38, 39, 40, 41, 42, 43, 44, 45, 46, 47, 48, 49]),\n",
              "                         'weights': ['uniform', 'distance']},\n",
              "             pre_dispatch='2*n_jobs', refit=True, return_train_score=False,\n",
              "             scoring='roc_auc', verbose=0)"
            ]
          },
          "metadata": {
            "tags": []
          },
          "execution_count": 180
        }
      ]
    },
    {
      "cell_type": "code",
      "metadata": {
        "colab": {
          "base_uri": "https://localhost:8080/"
        },
        "id": "mXBkPcdwZo3b",
        "outputId": "d330d837-c64c-40bd-a120-9604be22f506"
      },
      "source": [
        "#kombinasi hyperparameter terbaik\n",
        "gscv.best_params_"
      ],
      "execution_count": 181,
      "outputs": [
        {
          "output_type": "execute_result",
          "data": {
            "text/plain": [
              "{'n_neighbors': 8, 'weights': 'distance'}"
            ]
          },
          "metadata": {
            "tags": []
          },
          "execution_count": 181
        }
      ]
    },
    {
      "cell_type": "code",
      "metadata": {
        "colab": {
          "base_uri": "https://localhost:8080/"
        },
        "id": "rNKXIEM2Z_Pl",
        "outputId": "7c396ddd-4875-404e-f125-76f1bf532959"
      },
      "source": [
        "#score validasi \n",
        "gscv.best_score_"
      ],
      "execution_count": 257,
      "outputs": [
        {
          "output_type": "execute_result",
          "data": {
            "text/plain": [
              "0.7094012605042017"
            ]
          },
          "metadata": {
            "tags": []
          },
          "execution_count": 257
        }
      ]
    },
    {
      "cell_type": "code",
      "metadata": {
        "colab": {
          "base_uri": "https://localhost:8080/"
        },
        "id": "AQzVxQ-MbDTo",
        "outputId": "0932fd7c-c962-4f67-8afd-0ee641fd88a1"
      },
      "source": [
        "#Prediksi probabilitasi output dari model yang telah di buat terhadap data test. note : \n",
        "#gunakan method .predict_proba() untuk menghasilkan output probabilitas\n",
        "gscv.fit(X_train, y_train)\n",
        "y_pred_proba = gscv.predict_proba(X_test)\n",
        "\n",
        "y_pred_proba\n"
      ],
      "execution_count": 200,
      "outputs": [
        {
          "output_type": "execute_result",
          "data": {
            "text/plain": [
              "array([[0.8396757 , 0.1603243 ],\n",
              "       [0.79116585, 0.20883415],\n",
              "       [0.63461558, 0.36538442],\n",
              "       [0.        , 1.        ],\n",
              "       [0.67722631, 0.32277369],\n",
              "       [1.        , 0.        ],\n",
              "       [0.53363999, 0.46636001],\n",
              "       [0.72937691, 0.27062309],\n",
              "       [0.85437329, 0.14562671],\n",
              "       [0.67722631, 0.32277369],\n",
              "       [0.        , 1.        ],\n",
              "       [1.        , 0.        ],\n",
              "       [0.72819477, 0.27180523],\n",
              "       [1.        , 0.        ],\n",
              "       [0.84156107, 0.15843893],\n",
              "       [0.64093838, 0.35906162],\n",
              "       [0.85534297, 0.14465703],\n",
              "       [0.68644891, 0.31355109],\n",
              "       [1.        , 0.        ],\n",
              "       [0.46625569, 0.53374431],\n",
              "       [0.55174594, 0.44825406],\n",
              "       [0.84156107, 0.15843893],\n",
              "       [1.        , 0.        ],\n",
              "       [0.34594814, 0.65405186],\n",
              "       [1.        , 0.        ],\n",
              "       [1.        , 0.        ],\n",
              "       [0.6520165 , 0.3479835 ],\n",
              "       [0.58875063, 0.41124937],\n",
              "       [0.54027675, 0.45972325],\n",
              "       [0.75282578, 0.24717422],\n",
              "       [1.        , 0.        ],\n",
              "       [0.        , 1.        ],\n",
              "       [0.76076782, 0.23923218],\n",
              "       [0.90910942, 0.09089058],\n",
              "       [0.26511741, 0.73488259],\n",
              "       [0.77557991, 0.22442009],\n",
              "       [0.87739809, 0.12260191],\n",
              "       [0.89572884, 0.10427116],\n",
              "       [0.56623823, 0.43376177],\n",
              "       [0.77892892, 0.22107108],\n",
              "       [0.50948979, 0.49051021],\n",
              "       [0.5582415 , 0.4417585 ],\n",
              "       [0.72044666, 0.27955334],\n",
              "       [0.5381423 , 0.4618577 ],\n",
              "       [0.86184105, 0.13815895],\n",
              "       [1.        , 0.        ],\n",
              "       [1.        , 0.        ],\n",
              "       [0.91111684, 0.08888316],\n",
              "       [0.86569458, 0.13430542],\n",
              "       [0.11893548, 0.88106452],\n",
              "       [0.72265878, 0.27734122],\n",
              "       [0.48840625, 0.51159375],\n",
              "       [0.5347864 , 0.4652136 ],\n",
              "       [0.88753855, 0.11246145],\n",
              "       [0.50777713, 0.49222287],\n",
              "       [1.        , 0.        ],\n",
              "       [0.80746967, 0.19253033],\n",
              "       [0.60703083, 0.39296917],\n",
              "       [1.        , 0.        ],\n",
              "       [0.11216951, 0.88783049],\n",
              "       [0.60425151, 0.39574849],\n",
              "       [0.74679378, 0.25320622],\n",
              "       [0.87829342, 0.12170658],\n",
              "       [1.        , 0.        ],\n",
              "       [0.73821865, 0.26178135],\n",
              "       [0.86302949, 0.13697051],\n",
              "       [0.65526703, 0.34473297],\n",
              "       [0.88552339, 0.11447661],\n",
              "       [0.36667465, 0.63332535],\n",
              "       [1.        , 0.        ],\n",
              "       [0.34200251, 0.65799749],\n",
              "       [0.736668  , 0.263332  ],\n",
              "       [1.        , 0.        ],\n",
              "       [0.13275718, 0.86724282],\n",
              "       [0.73538454, 0.26461546],\n",
              "       [0.91073193, 0.08926807],\n",
              "       [0.31169954, 0.68830046]])"
            ]
          },
          "metadata": {
            "tags": []
          },
          "execution_count": 200
        }
      ]
    },
    {
      "cell_type": "code",
      "metadata": {
        "colab": {
          "base_uri": "https://localhost:8080/"
        },
        "id": "TYe8NCGed8Y_",
        "outputId": "82214e45-669a-4aee-e51f-8611657dcd0b"
      },
      "source": [
        "#Perhatikan bahwa hasil prediksi ada 2, dimana masing2 adalah nilai probabilitas untuk setiap class label. Ambil nilai probabilitas pasien phositive meninggal dalam waktu kurang dari 5 tahun. \n",
        "#note : gunakan bantuan attirubte .classes_ untuk mengetahui urutan label dari hasil prediksi probabilitas.\n",
        "y_pred_proba1 = gscv.best_estimator_.predict_proba(X_test)[::,1]\n",
        "y_pred_proba1\n"
      ],
      "execution_count": 206,
      "outputs": [
        {
          "output_type": "execute_result",
          "data": {
            "text/plain": [
              "array([0.1603243 , 0.20883415, 0.36538442, 1.        , 0.32277369,\n",
              "       0.        , 0.46636001, 0.27062309, 0.14562671, 0.32277369,\n",
              "       1.        , 0.        , 0.27180523, 0.        , 0.15843893,\n",
              "       0.35906162, 0.14465703, 0.31355109, 0.        , 0.53374431,\n",
              "       0.44825406, 0.15843893, 0.        , 0.65405186, 0.        ,\n",
              "       0.        , 0.3479835 , 0.41124937, 0.45972325, 0.24717422,\n",
              "       0.        , 1.        , 0.23923218, 0.09089058, 0.73488259,\n",
              "       0.22442009, 0.12260191, 0.10427116, 0.43376177, 0.22107108,\n",
              "       0.49051021, 0.4417585 , 0.27955334, 0.4618577 , 0.13815895,\n",
              "       0.        , 0.        , 0.08888316, 0.13430542, 0.88106452,\n",
              "       0.27734122, 0.51159375, 0.4652136 , 0.11246145, 0.49222287,\n",
              "       0.        , 0.19253033, 0.39296917, 0.        , 0.88783049,\n",
              "       0.39574849, 0.25320622, 0.12170658, 0.        , 0.26178135,\n",
              "       0.13697051, 0.34473297, 0.11447661, 0.63332535, 0.        ,\n",
              "       0.65799749, 0.263332  , 0.        , 0.86724282, 0.26461546,\n",
              "       0.08926807, 0.68830046])"
            ]
          },
          "metadata": {
            "tags": []
          },
          "execution_count": 206
        }
      ]
    },
    {
      "cell_type": "code",
      "metadata": {
        "colab": {
          "base_uri": "https://localhost:8080/"
        },
        "id": "DLP_DAFngEXZ",
        "outputId": "25fed0c7-4685-4320-f519-e0b218c20638"
      },
      "source": [
        "#Berapa nilai score roc_auc untuk data test\n",
        "y_pred_gscv = gscv.predict(X_test)\n",
        "roc_auc_test_gscv = roc_auc_score(y_test, y_pred_gscv)\n",
        "roc_auc_test_gscv"
      ],
      "execution_count": 272,
      "outputs": [
        {
          "output_type": "execute_result",
          "data": {
            "text/plain": [
              "0.5885964912280702"
            ]
          },
          "metadata": {
            "tags": []
          },
          "execution_count": 272
        }
      ]
    },
    {
      "cell_type": "code",
      "metadata": {
        "id": "iN0xjclbhnxF"
      },
      "source": [
        "#Apakah model anda termasuk baik, overtting, atau underfitting?\n",
        "#model overfitting karena memiliki nilai training score yang baik sedangkan nilai testing scorenya masih jelek"
      ],
      "execution_count": null,
      "outputs": []
    },
    {
      "cell_type": "code",
      "metadata": {
        "colab": {
          "base_uri": "https://localhost:8080/"
        },
        "id": "4jRjMs7flLOB",
        "outputId": "0178d00c-d3ef-48ef-c1c5-024c96751dfe"
      },
      "source": [
        "#menggunakan algoritma decision tree\n",
        "from sklearn.tree import DecisionTreeClassifier\n",
        "from sklearn.model_selection import RandomizedSearchCV #menggunakan algoritma randomizedsearch untuk memilih model terbaik\n",
        "\n",
        "\n",
        "DecisionTree_model = DecisionTreeClassifier() #membuat model decision tree model\n",
        "\n",
        "param_grid = {'max_depth': np.arange(3,6), 'random_state':np.arange(2,21),'splitter':['best', 'random']} #menggunakan fungsi randomized searh untuk melakukan tuning dan memilih model terbaik\n",
        "rscv = RandomizedSearchCV(DecisionTree_model, param_grid, scoring = 'roc_auc', cv = 10, n_iter=30)\n",
        "rscv.fit(X_train, y_train)\n"
      ],
      "execution_count": 268,
      "outputs": [
        {
          "output_type": "execute_result",
          "data": {
            "text/plain": [
              "RandomizedSearchCV(cv=10, error_score=nan,\n",
              "                   estimator=DecisionTreeClassifier(ccp_alpha=0.0,\n",
              "                                                    class_weight=None,\n",
              "                                                    criterion='gini',\n",
              "                                                    max_depth=None,\n",
              "                                                    max_features=None,\n",
              "                                                    max_leaf_nodes=None,\n",
              "                                                    min_impurity_decrease=0.0,\n",
              "                                                    min_impurity_split=None,\n",
              "                                                    min_samples_leaf=1,\n",
              "                                                    min_samples_split=2,\n",
              "                                                    min_weight_fraction_leaf=0.0,\n",
              "                                                    presort='deprecated',\n",
              "                                                    random_state=None,\n",
              "                                                    splitter='best'),\n",
              "                   iid='deprecated', n_iter=30, n_jobs=None,\n",
              "                   param_distributions={'max_depth': array([3, 4, 5]),\n",
              "                                        'random_state': array([ 2,  3,  4,  5,  6,  7,  8,  9, 10, 11, 12, 13, 14, 15, 16, 17, 18,\n",
              "       19, 20]),\n",
              "                                        'splitter': ['best', 'random']},\n",
              "                   pre_dispatch='2*n_jobs', random_state=None, refit=True,\n",
              "                   return_train_score=False, scoring='roc_auc', verbose=0)"
            ]
          },
          "metadata": {
            "tags": []
          },
          "execution_count": 268
        }
      ]
    },
    {
      "cell_type": "code",
      "metadata": {
        "colab": {
          "base_uri": "https://localhost:8080/"
        },
        "id": "Sff5Rc4un0SK",
        "outputId": "24721093-86c0-447d-a5d1-f307fea750c6"
      },
      "source": [
        "rscv.best_params_ #kombinasi model dengan hyperparameter terbaik"
      ],
      "execution_count": 269,
      "outputs": [
        {
          "output_type": "execute_result",
          "data": {
            "text/plain": [
              "{'max_depth': 3, 'random_state': 3, 'splitter': 'random'}"
            ]
          },
          "metadata": {
            "tags": []
          },
          "execution_count": 269
        }
      ]
    },
    {
      "cell_type": "code",
      "metadata": {
        "colab": {
          "base_uri": "https://localhost:8080/"
        },
        "id": "t12aQ0z_n3jJ",
        "outputId": "a4cbde92-8f6f-42f6-faa6-7a9a1415d769"
      },
      "source": [
        "rscv.best_score_ #score terbaik"
      ],
      "execution_count": 270,
      "outputs": [
        {
          "output_type": "execute_result",
          "data": {
            "text/plain": [
              "0.6941614145658263"
            ]
          },
          "metadata": {
            "tags": []
          },
          "execution_count": 270
        }
      ]
    },
    {
      "cell_type": "code",
      "metadata": {
        "colab": {
          "base_uri": "https://localhost:8080/"
        },
        "id": "TYB4YVT2oWA7",
        "outputId": "acd81b99-37fb-4947-ea60-3ef4cd98e326"
      },
      "source": [
        "rscv.fit(X_train, y_train) #menghitung y_proba\n",
        "y_pred_proba_rscv = rscv.predict_proba(X_test)\n",
        "\n",
        "y_pred_proba_rscv\n",
        "\n"
      ],
      "execution_count": 266,
      "outputs": [
        {
          "output_type": "stream",
          "text": [
            "/usr/local/lib/python3.6/dist-packages/sklearn/model_selection/_search.py:281: UserWarning: The total space of parameters 6 is smaller than n_iter=30. Running 6 iterations. For exhaustive searches, use GridSearchCV.\n",
            "  % (grid_size, self.n_iter, grid_size), UserWarning)\n"
          ],
          "name": "stderr"
        },
        {
          "output_type": "execute_result",
          "data": {
            "text/plain": [
              "array([[0.83431953, 0.16568047],\n",
              "       [0.2962963 , 0.7037037 ],\n",
              "       [0.83431953, 0.16568047],\n",
              "       [0.2962963 , 0.7037037 ],\n",
              "       [0.83431953, 0.16568047],\n",
              "       [0.83431953, 0.16568047],\n",
              "       [0.83431953, 0.16568047],\n",
              "       [0.83431953, 0.16568047],\n",
              "       [0.83431953, 0.16568047],\n",
              "       [0.83431953, 0.16568047],\n",
              "       [0.2962963 , 0.7037037 ],\n",
              "       [0.83431953, 0.16568047],\n",
              "       [0.83431953, 0.16568047],\n",
              "       [0.83431953, 0.16568047],\n",
              "       [0.83431953, 0.16568047],\n",
              "       [0.83431953, 0.16568047],\n",
              "       [0.83431953, 0.16568047],\n",
              "       [0.83431953, 0.16568047],\n",
              "       [0.83431953, 0.16568047],\n",
              "       [0.2962963 , 0.7037037 ],\n",
              "       [0.83431953, 0.16568047],\n",
              "       [0.83431953, 0.16568047],\n",
              "       [0.83431953, 0.16568047],\n",
              "       [0.2962963 , 0.7037037 ],\n",
              "       [0.83431953, 0.16568047],\n",
              "       [1.        , 0.        ],\n",
              "       [0.83431953, 0.16568047],\n",
              "       [0.83431953, 0.16568047],\n",
              "       [0.83431953, 0.16568047],\n",
              "       [0.83431953, 0.16568047],\n",
              "       [0.83431953, 0.16568047],\n",
              "       [0.2962963 , 0.7037037 ],\n",
              "       [0.83431953, 0.16568047],\n",
              "       [1.        , 0.        ],\n",
              "       [0.2962963 , 0.7037037 ],\n",
              "       [0.83431953, 0.16568047],\n",
              "       [0.83431953, 0.16568047],\n",
              "       [0.83431953, 0.16568047],\n",
              "       [0.83431953, 0.16568047],\n",
              "       [0.83431953, 0.16568047],\n",
              "       [0.2962963 , 0.7037037 ],\n",
              "       [0.83431953, 0.16568047],\n",
              "       [0.83431953, 0.16568047],\n",
              "       [0.2962963 , 0.7037037 ],\n",
              "       [0.83431953, 0.16568047],\n",
              "       [0.83431953, 0.16568047],\n",
              "       [0.83431953, 0.16568047],\n",
              "       [0.83431953, 0.16568047],\n",
              "       [0.83431953, 0.16568047],\n",
              "       [0.2962963 , 0.7037037 ],\n",
              "       [0.83431953, 0.16568047],\n",
              "       [0.2962963 , 0.7037037 ],\n",
              "       [0.83431953, 0.16568047],\n",
              "       [0.        , 1.        ],\n",
              "       [0.83431953, 0.16568047],\n",
              "       [0.83431953, 0.16568047],\n",
              "       [0.83431953, 0.16568047],\n",
              "       [0.2962963 , 0.7037037 ],\n",
              "       [0.83431953, 0.16568047],\n",
              "       [0.2962963 , 0.7037037 ],\n",
              "       [0.2962963 , 0.7037037 ],\n",
              "       [0.        , 1.        ],\n",
              "       [0.54545455, 0.45454545],\n",
              "       [0.83431953, 0.16568047],\n",
              "       [0.83431953, 0.16568047],\n",
              "       [0.83431953, 0.16568047],\n",
              "       [0.83431953, 0.16568047],\n",
              "       [0.83431953, 0.16568047],\n",
              "       [0.54545455, 0.45454545],\n",
              "       [1.        , 0.        ],\n",
              "       [0.54545455, 0.45454545],\n",
              "       [0.83431953, 0.16568047],\n",
              "       [0.83431953, 0.16568047],\n",
              "       [0.2962963 , 0.7037037 ],\n",
              "       [0.83431953, 0.16568047],\n",
              "       [0.83431953, 0.16568047],\n",
              "       [0.2962963 , 0.7037037 ]])"
            ]
          },
          "metadata": {
            "tags": []
          },
          "execution_count": 266
        }
      ]
    },
    {
      "cell_type": "code",
      "metadata": {
        "colab": {
          "base_uri": "https://localhost:8080/"
        },
        "id": "wMoGbpKsohKx",
        "outputId": "caf7f86f-c8cc-436e-e84c-37d4c34708e1"
      },
      "source": [
        "y_pred_proba_rscv2 = rscv.best_estimator_.predict_proba(X_test)[::,1] #mengambil nilai probabilitas untuk pasien meninggal kurang dari 5 hari \n",
        "y_pred_proba_rscv2"
      ],
      "execution_count": 265,
      "outputs": [
        {
          "output_type": "execute_result",
          "data": {
            "text/plain": [
              "array([0.30769231, 0.57142857, 0.30769231, 0.57142857, 0.14705882,\n",
              "       0.14705882, 0.30769231, 0.30769231, 0.30769231, 0.14705882,\n",
              "       0.57142857, 0.14705882, 0.14705882, 0.14705882, 0.14705882,\n",
              "       0.14705882, 0.14705882, 0.30769231, 0.14705882, 0.57142857,\n",
              "       0.14705882, 0.14705882, 0.30769231, 0.57142857, 0.14705882,\n",
              "       0.        , 0.30769231, 0.14705882, 0.14705882, 0.14705882,\n",
              "       0.14705882, 0.57142857, 0.14705882, 0.        , 0.57142857,\n",
              "       0.30769231, 0.30769231, 0.14705882, 0.30769231, 0.30769231,\n",
              "       0.57142857, 0.14705882, 0.14705882, 0.57142857, 0.14705882,\n",
              "       0.30769231, 0.14705882, 0.14705882, 0.14705882, 0.57142857,\n",
              "       0.14705882, 0.33333333, 0.14705882, 0.14705882, 0.30769231,\n",
              "       0.14705882, 0.14705882, 0.57142857, 0.14705882, 0.57142857,\n",
              "       0.57142857, 0.14705882, 1.        , 0.14705882, 0.14705882,\n",
              "       0.14705882, 0.14705882, 0.14705882, 0.57142857, 0.        ,\n",
              "       1.        , 0.14705882, 0.14705882, 0.57142857, 0.14705882,\n",
              "       0.14705882, 0.57142857])"
            ]
          },
          "metadata": {
            "tags": []
          },
          "execution_count": 265
        }
      ]
    },
    {
      "cell_type": "code",
      "metadata": {
        "colab": {
          "base_uri": "https://localhost:8080/"
        },
        "id": "KxwP8kmuoncD",
        "outputId": "b0a4ffbe-074f-46a6-b1d3-6b3859396b18"
      },
      "source": [
        "y_pred_rscv = rscv.predict(X_test)\n",
        "roc_auc_test_rscv = roc_auc_score(y_test, y_pred_rscv)\n",
        "roc_auc_test_rscv\n",
        "\n",
        "\n",
        "\n"
      ],
      "execution_count": 271,
      "outputs": [
        {
          "output_type": "execute_result",
          "data": {
            "text/plain": [
              "0.6298245614035087"
            ]
          },
          "metadata": {
            "tags": []
          },
          "execution_count": 271
        }
      ]
    },
    {
      "cell_type": "code",
      "metadata": {
        "id": "RYW7JiL9rQ4B"
      },
      "source": [
        "#model dengan algoritma decision tree sudah cukup baik karena nilai akurasi data testing dan data training hampir sama\n",
        "\n",
        "#kedua model sebenarnya masih belum cukup baik karena akurasi masih berada pada kisaran 50-70 persen, \n",
        "#namun dari kedua model yang lebih baik menurut saya adalah decision tree, \n",
        "#karena pada model decision tree meskipun akurasinya lebih kecil namun selisih antara akurasi \n",
        "#data training dan data testing tidak terlalu besar"
      ],
      "execution_count": null,
      "outputs": []
    }
  ]
}
