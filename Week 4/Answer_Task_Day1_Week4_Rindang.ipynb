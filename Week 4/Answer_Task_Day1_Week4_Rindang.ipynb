{
  "nbformat": 4,
  "nbformat_minor": 0,
  "metadata": {
    "kernelspec": {
      "display_name": "Python 3",
      "language": "python",
      "name": "python3"
    },
    "language_info": {
      "codemirror_mode": {
        "name": "ipython",
        "version": 3
      },
      "file_extension": ".py",
      "mimetype": "text/x-python",
      "name": "python",
      "nbconvert_exporter": "python",
      "pygments_lexer": "ipython3",
      "version": "3.7.6"
    },
    "colab": {
      "name": "Jawaban Tugas Hari 1 Pekan 4_Rindang.ipynb",
      "provenance": [],
      "collapsed_sections": []
    }
  },
  "cells": [
    {
      "cell_type": "markdown",
      "metadata": {
        "id": "47NOwo3UNcRl"
      },
      "source": [
        "<h1>Soal 1: Pemahaman Machine Learning</h1>\n",
        "\n",
        "Jawab/Kerjakan pertanyaan/perintah di bawah ini dengan bahasa kalian sendiri:\n",
        "\n",
        "- Apa itu machine learning?\n",
        "- Apa itu data feature dan data target?\n",
        "- Apa Perbedaan Supervised Learning dan Unsupervised Learning?\n",
        "- Apa Jenis2 yang ada di dalam Supervised Learning? Jelaskan Perbedaannya!\n",
        "- Apa perbedaan Hyperparameter dan Parameter?\n",
        "- Sebutkan Langkah-langkah dalam mengaplikasikan algoritma apapun dalam machine learning!"
      ]
    },
    {
      "cell_type": "markdown",
      "metadata": {
        "id": "9s9ILwSXAXnJ"
      },
      "source": [
        "Jawaban :\n",
        "\n",
        "**Apa itu machine learning?**\n",
        "Merupakan cabang ilmu dari kecerdasan buatan yang mempeljari bagaimna komputer dapat menghasilkan suatu keputusan berdasarkan data yang telah dipelajari oleh komputer tersebut dengan suatu algoritma tertentu.\n",
        "\n",
        "**Apa itu data feature dan data target?**\n",
        "Data feature : Data yang digunakan sebagai prediktor dan bersifat independen\n",
        "Data target : Data yang merupakan output dan bersifat dependen.\n",
        "\n",
        "**Apa Perbedaan Supervised Learning dan Unsupervised Learning?**\n",
        "Dalam supervised learning algoritma akan dilatih terlebih dahulu, dalam supervised learning terdapat data yang digunakan untuk training (data training) untuk melakukan klasifikasi atau prediksi, sedangkan pada unsupervised learning tidak ada data training untuk prediksi atau klasifikasi, pada unsupervised learning akan mengelompokkan object yang hampir sama. Pada supervised ada label sedangkan unsupervside tidak memiliki label.\n",
        "\n",
        "**Apa Jenis2 yang ada di dalam Supervised Learning? Jelaskan Perbedaannya!**\n",
        "Dalam supervised learning ada classification dan regression. Pada regression tipe outputnya continuous sedangkan pada calddification outputnya diskrit. Pada regression yang diprediksi berupa angka sedangkan pada classification berupa class.\n",
        "\n",
        "**Apa perbedaan Hyperparameter dan Parameter?**\n",
        "Hyperparameter didefinisikan di awal sebelum sebuah model dilatih sedangkan parameter merupakan variabel yang nilainya diperoleh dari hasil model yang dilatih. Parameter merupakan variabel internal model sedangkan hyperparameter merupakan variabel external.\n",
        "\n",
        "**Sebutkan Langkah-langkah dalam mengaplikasikan algoritma apapun dalam machine learning!**\n",
        "1. Memilih algoritma model yang akan digunakan\n",
        "2. Memilih hyperparameter\n",
        "3. Memisahkan data fitur dan data target\n",
        "4. Memerintahkan model untuk mempelajari data\n",
        "5. Mengaplikasikan model terhadap data set"
      ]
    },
    {
      "cell_type": "markdown",
      "metadata": {
        "id": "58I1LJFoNcRv"
      },
      "source": [
        "---\n"
      ]
    },
    {
      "cell_type": "markdown",
      "metadata": {
        "id": "jI50HJDgNcRz"
      },
      "source": [
        "<h1>Soal 2: Pemahaman Machine Learning</h1>\n",
        "\n",
        "Pelajarilah secara garis besar suatu model/algoritma machine learning, kemudian aplikasikan untuk membuat model bagi data (variable x, y) di bawah ini. Kemudian buatlah prediksi terhadap data training dan data baru di interval 20-30.\n",
        "\n",
        "- Plot data asli, data hasil prediksi terhadap data training, data hasil prediksi terhadap data baru\n",
        "- Tunjukan beberapa parameter yang dimiliki model yang telah kalian buat"
      ]
    },
    {
      "cell_type": "code",
      "metadata": {
        "id": "QotZc3UbNcR9",
        "colab": {
          "base_uri": "https://localhost:8080/",
          "height": 388
        },
        "outputId": "b5340942-2c61-4e77-c3e8-931c81949ace"
      },
      "source": [
        "import matplotlib.pyplot as plt\n",
        "import numpy as np\n",
        "\n",
        "rng = np.random.RandomState(42)\n",
        "x = 20 * rng.rand(50)\n",
        "y = x**2 + 2 * x + - 1 + rng.randn(50)\n",
        "\n",
        "# data yang akan di prediksi\n",
        "x_new = np.arange(20, 30, 0.5)\n",
        "\n",
        "fig, ax = plt.subplots(figsize=(12, 6))\n",
        "ax.scatter(x, y)\n",
        "ax.set_xlabel('X-Value')\n",
        "ax.set_ylabel('Y-Value')\n",
        "plt.show()"
      ],
      "execution_count": 1,
      "outputs": [
        {
          "output_type": "display_data",
          "data": {
            "image/png": "[encoded data removed]",
            "text/plain": [
              "<Figure size 864x432 with 1 Axes>"
            ]
          },
          "metadata": {
            "tags": [],
            "needs_background": "light"
          }
        }
      ]
    },
    {
      "cell_type": "markdown",
      "metadata": {
        "id": "3wrMfFusNcS6"
      },
      "source": [
        "Contoh jawaban hasil pembuatan model dengan algoritma DecisionTreeRegressor (jawaban tidak harus sama):\n",
        "\n",
        "![alt text](https://drive.google.com/uc?id=1R0mGnMp3DqEsHDiH2_IL4XSS2Roew0wo)"
      ]
    },
    {
      "cell_type": "markdown",
      "metadata": {
        "id": "4Vs7RhxRNcS_"
      },
      "source": [
        "Contoh jawaban parameters (tidak harus sama):\n",
        "\n",
        "- Feature Importance : array([1.])\n",
        "- n features : 1\n",
        "  \n",
        "Tree Graph :\n",
        "\n",
        "![alt text](https://drive.google.com/uc?id=1GM0ba_qjm_e5oLhE9v6pVt2uRBBW6FH9)"
      ]
    },
    {
      "cell_type": "code",
      "metadata": {
        "id": "AQKlYTdSbL9o"
      },
      "source": [
        "# Code here\n",
        "#menggunakan algoritma linear regression\n",
        "# 1. Memilih algoritma model yang akan digunakan\n",
        "from sklearn.linear_model import LinearRegression\n",
        "\n",
        "#2. Memilih hyperparameter\n",
        "model_lr = LinearRegression(fit_intercept = True)"
      ],
      "execution_count": 5,
      "outputs": []
    },
    {
      "cell_type": "code",
      "metadata": {
        "id": "2BianNpVSuiU"
      },
      "source": [
        "#Mengubah nilai x dari vector menjadi matriks\n",
        "x_matriks = x[:, np.newaxis]\n",
        "x_matriks.shape\n",
        "\n",
        "#nilai x data baru \n",
        "x_new_matriks = x_new[:, np.newaxis]"
      ],
      "execution_count": 7,
      "outputs": []
    },
    {
      "cell_type": "code",
      "metadata": {
        "colab": {
          "base_uri": "https://localhost:8080/"
        },
        "id": "U27dXNBzTcv3",
        "outputId": "41c76641-fe86-4798-f59f-cb3fceda344e"
      },
      "source": [
        "#4. Memerintahkan model untuk mempelajari data\n",
        "model_lr.fit(x_matriks, y)"
      ],
      "execution_count": 46,
      "outputs": [
        {
          "output_type": "execute_result",
          "data": {
            "text/plain": [
              "LinearRegression(copy_X=True, fit_intercept=True, n_jobs=None, normalize=False)"
            ]
          },
          "metadata": {
            "tags": []
          },
          "execution_count": 46
        }
      ]
    },
    {
      "cell_type": "code",
      "metadata": {
        "id": "4wyc-_5RULHR"
      },
      "source": [
        "#Mengaplikasikan model terhadap data set\n",
        "y_train = model_lr.predict(x_matriks)\n",
        "y_new = model_lr.predict(x_new_matriks)\n"
      ],
      "execution_count": 47,
      "outputs": []
    },
    {
      "cell_type": "code",
      "metadata": {
        "colab": {
          "base_uri": "https://localhost:8080/",
          "height": 377
        },
        "id": "l3rPN8zYVE8u",
        "outputId": "73324381-a76f-4c5e-b9db-3991fabd738d"
      },
      "source": [
        "#menggambar grafik\n",
        "fig, ax = plt.subplots(figsize=(12, 6))\n",
        "plt.scatter(x, y, color = 'red')\n",
        "plt.plot(x, y_train, label = 'model training')\n",
        "plt.plot(x_new_matriks , y_new, label = 'hasil prediksi')\n",
        "plt.legend()\n",
        "plt.show()"
      ],
      "execution_count": 49,
      "outputs": [
        {
          "output_type": "display_data",
          "data": {
            "image/png": "[encoded data removed]",
            "text/plain": [
              "<Figure size 864x432 with 1 Axes>"
            ]
          },
          "metadata": {
            "tags": [],
            "needs_background": "light"
          }
        }
      ]
    },
    {
      "cell_type": "code",
      "metadata": {
        "colab": {
          "base_uri": "https://localhost:8080/"
        },
        "id": "wac196RgfCdY",
        "outputId": "5989828d-033b-43db-f3e4-9ffe20834c5e"
      },
      "source": [
        "#parameter\n",
        "\n",
        "importance = model_lr.coef_[0]\n",
        "importance "
      ],
      "execution_count": 59,
      "outputs": [
        {
          "output_type": "execute_result",
          "data": {
            "text/plain": [
              "21.496201208288568"
            ]
          },
          "metadata": {
            "tags": []
          },
          "execution_count": 59
        }
      ]
    },
    {
      "cell_type": "code",
      "metadata": {
        "id": "pTc01GHVX-qI"
      },
      "source": [
        "#menggunakan decision tree regressor\n",
        "from sklearn.tree import DecisionTreeRegressor\n",
        "\n",
        "regression1 = DecisionTreeRegressor(max_depth=2)"
      ],
      "execution_count": 81,
      "outputs": []
    },
    {
      "cell_type": "code",
      "metadata": {
        "colab": {
          "base_uri": "https://localhost:8080/"
        },
        "id": "_4xPWJkJbK-k",
        "outputId": "1c9fe6bc-c267-4f4b-9aa2-7109f47d6451"
      },
      "source": [
        "regression1.fit(x_matriks, y)"
      ],
      "execution_count": 82,
      "outputs": [
        {
          "output_type": "execute_result",
          "data": {
            "text/plain": [
              "DecisionTreeRegressor(ccp_alpha=0.0, criterion='mse', max_depth=2,\n",
              "                      max_features=None, max_leaf_nodes=None,\n",
              "                      min_impurity_decrease=0.0, min_impurity_split=None,\n",
              "                      min_samples_leaf=1, min_samples_split=2,\n",
              "                      min_weight_fraction_leaf=0.0, presort='deprecated',\n",
              "                      random_state=None, splitter='best')"
            ]
          },
          "metadata": {
            "tags": []
          },
          "execution_count": 82
        }
      ]
    },
    {
      "cell_type": "code",
      "metadata": {
        "id": "Mbs7JgUMbQ_7"
      },
      "source": [
        "y_train_reg = regression1.predict(x_matriks)\n",
        "y_new_reg = regression1.predict(x_new_matriks)"
      ],
      "execution_count": 83,
      "outputs": []
    },
    {
      "cell_type": "code",
      "metadata": {
        "colab": {
          "base_uri": "https://localhost:8080/",
          "height": 374
        },
        "id": "9z1oBdPUba8z",
        "outputId": "27085aa3-5a4c-45ca-fb92-9995743f3db3"
      },
      "source": [
        "fig, ax = plt.subplots(figsize=(12, 6))\n",
        "plt.scatter(x, y, color = 'blue', label = 'data asli')\n",
        "plt.scatter(x, y_train_reg, label = 'prediksi terhadap data training', color = 'yellow')\n",
        "plt.plot(x_new_matriks , y_new_reg, label = 'prediksi terhadap data baru', color = 'green')\n",
        "plt.legend()\n",
        "plt.show()"
      ],
      "execution_count": 84,
      "outputs": [
        {
          "output_type": "display_data",
          "data": {
            "image/png": "[encoded data removed]",
            "text/plain": [
              "<Figure size 864x432 with 1 Axes>"
            ]
          },
          "metadata": {
            "tags": [],
            "needs_background": "light"
          }
        }
      ]
    },
    {
      "cell_type": "code",
      "metadata": {
        "colab": {
          "base_uri": "https://localhost:8080/"
        },
        "id": "pv-kYFs7eK9z",
        "outputId": "2f720ec7-9d8c-4fa7-e49f-1528f6b9108f"
      },
      "source": [
        "#Parameter\n",
        "importances = regression1.feature_importances_\n",
        "importances"
      ],
      "execution_count": 85,
      "outputs": [
        {
          "output_type": "execute_result",
          "data": {
            "text/plain": [
              "array([1.])"
            ]
          },
          "metadata": {
            "tags": []
          },
          "execution_count": 85
        }
      ]
    },
    {
      "cell_type": "code",
      "metadata": {
        "colab": {
          "base_uri": "https://localhost:8080/"
        },
        "id": "NkKIy5PdghPs",
        "outputId": "4ac7da9f-e2b2-40dd-f525-566b1e92dc17"
      },
      "source": [
        "regression1.n_features_"
      ],
      "execution_count": 86,
      "outputs": [
        {
          "output_type": "execute_result",
          "data": {
            "text/plain": [
              "1"
            ]
          },
          "metadata": {
            "tags": []
          },
          "execution_count": 86
        }
      ]
    },
    {
      "cell_type": "code",
      "metadata": {
        "colab": {
          "base_uri": "https://localhost:8080/",
          "height": 380
        },
        "id": "phORcHbYkaWf",
        "outputId": "2a4129fc-7825-47bb-ea6c-010468000429"
      },
      "source": [
        "import graphviz \n",
        "dot_data = tree.export_graphviz(regression1, out_file= None) \n",
        "graph = graphviz.Source(dot_data)\n",
        "graph"
      ],
      "execution_count": 88,
      "outputs": [
        {
          "output_type": "execute_result",
          "data": {
            "text/plain": [
              "<graphviz.files.Source at 0x7fb3388d5f28>"
            ],
            "image/svg+xml": "<?xml version=\"1.0\" encoding=\"UTF-8\" standalone=\"no\"?>\n<!DOCTYPE svg PUBLIC \"-//W3C//DTD SVG 1.1//EN\"\n \"http://www.w3.org/Graphics/SVG/1.1/DTD/svg11.dtd\">\n<!-- Generated by graphviz version 2.40.1 (20161225.0304)\n -->\n<!-- Title: Tree Pages: 1 -->\n<svg width=\"502pt\" height=\"269pt\"\n viewBox=\"0.00 0.00 502.00 269.00\" xmlns=\"http://www.w3.org/2000/svg\" xmlns:xlink=\"http://www.w3.org/1999/xlink\">\n<g id=\"graph0\" class=\"graph\" transform=\"scale(1 1) rotate(0) translate(4 265)\">\n<title>Tree</title>\n<polygon fill=\"#ffffff\" stroke=\"transparent\" points=\"-4,4 -4,-265 498,-265 498,4 -4,4\"/>\n<!-- 0 -->\n<g id=\"node1\" class=\"node\">\n<title>0</title>\n<polygon fill=\"none\" stroke=\"#000000\" points=\"302.5,-261 183.5,-261 183.5,-193 302.5,-193 302.5,-261\"/>\n<text text-anchor=\"middle\" x=\"243\" y=\"-245.8\" font-family=\"Times,serif\" font-size=\"14.00\" fill=\"#000000\">X[0] &lt;= 12.744</text>\n<text text-anchor=\"middle\" x=\"243\" y=\"-230.8\" font-family=\"Times,serif\" font-size=\"14.00\" fill=\"#000000\">mse = 15993.388</text>\n<text text-anchor=\"middle\" x=\"243\" y=\"-215.8\" font-family=\"Times,serif\" font-size=\"14.00\" fill=\"#000000\">samples = 50</text>\n<text text-anchor=\"middle\" x=\"243\" y=\"-200.8\" font-family=\"Times,serif\" font-size=\"14.00\" fill=\"#000000\">value = 129.087</text>\n</g>\n<!-- 1 -->\n<g id=\"node2\" class=\"node\">\n<title>1</title>\n<polygon fill=\"none\" stroke=\"#000000\" points=\"233.5,-157 122.5,-157 122.5,-89 233.5,-89 233.5,-157\"/>\n<text text-anchor=\"middle\" x=\"178\" y=\"-141.8\" font-family=\"Times,serif\" font-size=\"14.00\" fill=\"#000000\">X[0] &lt;= 8.065</text>\n<text text-anchor=\"middle\" x=\"178\" y=\"-126.8\" font-family=\"Times,serif\" font-size=\"14.00\" fill=\"#000000\">mse = 3370.867</text>\n<text text-anchor=\"middle\" x=\"178\" y=\"-111.8\" font-family=\"Times,serif\" font-size=\"14.00\" fill=\"#000000\">samples = 37</text>\n<text text-anchor=\"middle\" x=\"178\" y=\"-96.8\" font-family=\"Times,serif\" font-size=\"14.00\" fill=\"#000000\">value = 64.087</text>\n</g>\n<!-- 0&#45;&gt;1 -->\n<g id=\"edge1\" class=\"edge\">\n<title>0&#45;&gt;1</title>\n<path fill=\"none\" stroke=\"#000000\" d=\"M221.7166,-192.9465C216.2733,-184.2373 210.3516,-174.7626 204.675,-165.6801\"/>\n<polygon fill=\"#000000\" stroke=\"#000000\" points=\"207.5993,-163.755 199.3312,-157.13 201.6633,-167.465 207.5993,-163.755\"/>\n<text text-anchor=\"middle\" x=\"193.7098\" y=\"-177.7898\" font-family=\"Times,serif\" font-size=\"14.00\" fill=\"#000000\">True</text>\n</g>\n<!-- 4 -->\n<g id=\"node5\" class=\"node\">\n<title>4</title>\n<polygon fill=\"none\" stroke=\"#000000\" points=\"364,-157 252,-157 252,-89 364,-89 364,-157\"/>\n<text text-anchor=\"middle\" x=\"308\" y=\"-141.8\" font-family=\"Times,serif\" font-size=\"14.00\" fill=\"#000000\">X[0] &lt;= 16.986</text>\n<text text-anchor=\"middle\" x=\"308\" y=\"-126.8\" font-family=\"Times,serif\" font-size=\"14.00\" fill=\"#000000\">mse = 5668.677</text>\n<text text-anchor=\"middle\" x=\"308\" y=\"-111.8\" font-family=\"Times,serif\" font-size=\"14.00\" fill=\"#000000\">samples = 13</text>\n<text text-anchor=\"middle\" x=\"308\" y=\"-96.8\" font-family=\"Times,serif\" font-size=\"14.00\" fill=\"#000000\">value = 314.088</text>\n</g>\n<!-- 0&#45;&gt;4 -->\n<g id=\"edge4\" class=\"edge\">\n<title>0&#45;&gt;4</title>\n<path fill=\"none\" stroke=\"#000000\" d=\"M264.2834,-192.9465C269.7267,-184.2373 275.6484,-174.7626 281.325,-165.6801\"/>\n<polygon fill=\"#000000\" stroke=\"#000000\" points=\"284.3367,-167.465 286.6688,-157.13 278.4007,-163.755 284.3367,-167.465\"/>\n<text text-anchor=\"middle\" x=\"292.2902\" y=\"-177.7898\" font-family=\"Times,serif\" font-size=\"14.00\" fill=\"#000000\">False</text>\n</g>\n<!-- 2 -->\n<g id=\"node3\" class=\"node\">\n<title>2</title>\n<polygon fill=\"none\" stroke=\"#000000\" points=\"104,-53 0,-53 0,0 104,0 104,-53\"/>\n<text text-anchor=\"middle\" x=\"52\" y=\"-37.8\" font-family=\"Times,serif\" font-size=\"14.00\" fill=\"#000000\">mse = 424.568</text>\n<text text-anchor=\"middle\" x=\"52\" y=\"-22.8\" font-family=\"Times,serif\" font-size=\"14.00\" fill=\"#000000\">samples = 24</text>\n<text text-anchor=\"middle\" x=\"52\" y=\"-7.8\" font-family=\"Times,serif\" font-size=\"14.00\" fill=\"#000000\">value = 25.148</text>\n</g>\n<!-- 1&#45;&gt;2 -->\n<g id=\"edge2\" class=\"edge\">\n<title>1&#45;&gt;2</title>\n<path fill=\"none\" stroke=\"#000000\" d=\"M133.5771,-88.9777C121.023,-79.3629 107.3881,-68.9203 94.924,-59.3743\"/>\n<polygon fill=\"#000000\" stroke=\"#000000\" points=\"96.9927,-56.5502 86.9255,-53.2485 92.7365,-62.1076 96.9927,-56.5502\"/>\n</g>\n<!-- 3 -->\n<g id=\"node4\" class=\"node\">\n<title>3</title>\n<polygon fill=\"none\" stroke=\"#000000\" points=\"234,-53 122,-53 122,0 234,0 234,-53\"/>\n<text text-anchor=\"middle\" x=\"178\" y=\"-37.8\" font-family=\"Times,serif\" font-size=\"14.00\" fill=\"#000000\">mse = 843.286</text>\n<text text-anchor=\"middle\" x=\"178\" y=\"-22.8\" font-family=\"Times,serif\" font-size=\"14.00\" fill=\"#000000\">samples = 13</text>\n<text text-anchor=\"middle\" x=\"178\" y=\"-7.8\" font-family=\"Times,serif\" font-size=\"14.00\" fill=\"#000000\">value = 135.974</text>\n</g>\n<!-- 1&#45;&gt;3 -->\n<g id=\"edge3\" class=\"edge\">\n<title>1&#45;&gt;3</title>\n<path fill=\"none\" stroke=\"#000000\" d=\"M178,-88.9777C178,-80.7364 178,-71.887 178,-63.5153\"/>\n<polygon fill=\"#000000\" stroke=\"#000000\" points=\"181.5001,-63.2484 178,-53.2485 174.5001,-63.2485 181.5001,-63.2484\"/>\n</g>\n<!-- 5 -->\n<g id=\"node6\" class=\"node\">\n<title>5</title>\n<polygon fill=\"none\" stroke=\"#000000\" points=\"364,-53 252,-53 252,0 364,0 364,-53\"/>\n<text text-anchor=\"middle\" x=\"308\" y=\"-37.8\" font-family=\"Times,serif\" font-size=\"14.00\" fill=\"#000000\">mse = 1502.746</text>\n<text text-anchor=\"middle\" x=\"308\" y=\"-22.8\" font-family=\"Times,serif\" font-size=\"14.00\" fill=\"#000000\">samples = 7</text>\n<text text-anchor=\"middle\" x=\"308\" y=\"-7.8\" font-family=\"Times,serif\" font-size=\"14.00\" fill=\"#000000\">value = 251.947</text>\n</g>\n<!-- 4&#45;&gt;5 -->\n<g id=\"edge5\" class=\"edge\">\n<title>4&#45;&gt;5</title>\n<path fill=\"none\" stroke=\"#000000\" d=\"M308,-88.9777C308,-80.7364 308,-71.887 308,-63.5153\"/>\n<polygon fill=\"#000000\" stroke=\"#000000\" points=\"311.5001,-63.2484 308,-53.2485 304.5001,-63.2485 311.5001,-63.2484\"/>\n</g>\n<!-- 6 -->\n<g id=\"node7\" class=\"node\">\n<title>6</title>\n<polygon fill=\"none\" stroke=\"#000000\" points=\"494,-53 382,-53 382,0 494,0 494,-53\"/>\n<text text-anchor=\"middle\" x=\"438\" y=\"-37.8\" font-family=\"Times,serif\" font-size=\"14.00\" fill=\"#000000\">mse = 768.052</text>\n<text text-anchor=\"middle\" x=\"438\" y=\"-22.8\" font-family=\"Times,serif\" font-size=\"14.00\" fill=\"#000000\">samples = 6</text>\n<text text-anchor=\"middle\" x=\"438\" y=\"-7.8\" font-family=\"Times,serif\" font-size=\"14.00\" fill=\"#000000\">value = 386.585</text>\n</g>\n<!-- 4&#45;&gt;6 -->\n<g id=\"edge6\" class=\"edge\">\n<title>4&#45;&gt;6</title>\n<path fill=\"none\" stroke=\"#000000\" d=\"M353.8331,-88.9777C366.7857,-79.3629 380.8535,-68.9203 393.7133,-59.3743\"/>\n<polygon fill=\"#000000\" stroke=\"#000000\" points=\"396.0224,-62.0193 401.9658,-53.2485 391.8501,-56.3986 396.0224,-62.0193\"/>\n</g>\n</g>\n</svg>\n"
          },
          "metadata": {
            "tags": []
          },
          "execution_count": 88
        }
      ]
    }
  ]
}
